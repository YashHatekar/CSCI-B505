{
 "cells": [
  {
   "cell_type": "markdown",
   "id": "31059cd1",
   "metadata": {},
   "source": [
    "## Problem 1"
   ]
  },
  {
   "cell_type": "code",
   "execution_count": 170,
   "id": "2daeb98f",
   "metadata": {},
   "outputs": [
    {
     "name": "stdout",
     "output_type": "stream",
     "text": [
      "Level  0 :  [None]\n",
      "Level  1 :  [None, None]\n",
      "Level  2 :  [12, 23, 24, 42]\n",
      "-------------------------\n",
      "Level  0 :  [11]\n",
      "Level  1 :  [None, None]\n",
      "Level  2 :  [12, 23, 24, 42]\n",
      "-------------------------\n",
      "Level  0 :  [None]\n",
      "Level  1 :  [11, 12]\n",
      "Level  2 :  [23, 24, 42, 74]\n",
      "-------------------------\n",
      "2\n",
      "-1\n"
     ]
    }
   ],
   "source": [
    "class amor_dict():\n",
    "    def __init__(self, num_list):\n",
    "        num_list.sort()\n",
    "        self.num_list = num_list\n",
    "        len_list = len(num_list)\n",
    "        bin_len = bin(len_list)[2:]\n",
    "        dictionary = {}\n",
    "        count = 0\n",
    "        for i in bin_len[::-1]:\n",
    "            if i == '1':\n",
    "                dictionary[count] = num_list[:(2**count)+1]\n",
    "                num_list = num_list[(2**count):]\n",
    "            else:\n",
    "                dictionary[count] = [None]*(2**count)\n",
    "            count+=1\n",
    "        self.dictionary = dictionary\n",
    "        #pass\n",
    "    def insert(self,num):\n",
    "        temp_list = self.num_list\n",
    "        temp_list.append(num)\n",
    "        temp_list.sort()\n",
    "        len_list = len(temp_list)\n",
    "        bin_len = bin(len_list)[2:]\n",
    "        dictionary = {}\n",
    "        count = 0\n",
    "        #print(bin_len)\n",
    "        for i in bin_len[::-1]:\n",
    "            if i == '1':\n",
    "                #print(count)\n",
    "                #print(temp_list[:(2**count)+1])\n",
    "                dictionary[count] = temp_list[:(2**count)]\n",
    "                temp_list = temp_list[(2**count):]\n",
    "            else:\n",
    "                dictionary[count] = [None]*(2**count)\n",
    "            count+=1\n",
    "        self.dictionary = dictionary\n",
    "        #pass\n",
    "    def search(self,num):\n",
    "        count = 0\n",
    "        for i in self.dictionary:\n",
    "            #iterate through the levels to check only the largest value which is the last element\n",
    "            #if num > largest in the level then skip the level\n",
    "            if num > int(self.dictionary[i][-1] or 0):\n",
    "                continue\n",
    "            else:\n",
    "                if num in self.dictionary[i]:\n",
    "                    return i\n",
    "                else:\n",
    "                    return -1\n",
    "        return -1\n",
    "    def print_dict(self):\n",
    "        #print(self.no_of_lvls)\n",
    "        #print(self.no_of_elems)\n",
    "        #print(self.num_list)\n",
    "        for i in self.dictionary:\n",
    "            print('Level ',i,': ',self.dictionary[i])\n",
    "        print('-------------------------')\n",
    "        #pass\n",
    "ad_obj = amor_dict([23, 12 ,24, 42])\n",
    "ad_obj.print_dict()\n",
    "ad_obj.insert(11)\n",
    "ad_obj.print_dict()\n",
    "ad_obj.insert(74)\n",
    "ad_obj.print_dict()\n",
    "print(ad_obj.search(74))\n",
    "print(ad_obj.search(77))"
   ]
  },
  {
   "cell_type": "markdown",
   "id": "5a0c472a",
   "metadata": {},
   "source": [
    "## Problem 5"
   ]
  },
  {
   "cell_type": "code",
   "execution_count": 5,
   "id": "61dbf470",
   "metadata": {},
   "outputs": [
    {
     "name": "stdout",
     "output_type": "stream",
     "text": [
      "1\n",
      "1211\n",
      "111221\n",
      "312211\n"
     ]
    }
   ],
   "source": [
    "def cnt_digi(s,cnt,n):\n",
    "    if cnt >= n:\n",
    "        return s\n",
    "    curr = s[0]\n",
    "    count = 0\n",
    "    temp = ''\n",
    "    for i in s:\n",
    "        if i == curr:\n",
    "            count+=1\n",
    "        else:\n",
    "            temp+= str(count)+curr\n",
    "            curr = i\n",
    "            count = 1\n",
    "    temp+=str(count)+curr\n",
    "    return cnt_digi(temp,cnt+1,n)\n",
    "def count_digit_string(n):\n",
    "    return cnt_digi('1',1,n)\n",
    "print(count_digit_string(1))\n",
    "print(count_digit_string(4))\n",
    "print(count_digit_string(5))\n",
    "print(count_digit_string(6))"
   ]
  },
  {
   "cell_type": "code",
   "execution_count": null,
   "id": "4cf45251",
   "metadata": {},
   "outputs": [],
   "source": []
  }
 ],
 "metadata": {
  "kernelspec": {
   "display_name": "Python 3 (ipykernel)",
   "language": "python",
   "name": "python3"
  },
  "language_info": {
   "codemirror_mode": {
    "name": "ipython",
    "version": 3
   },
   "file_extension": ".py",
   "mimetype": "text/x-python",
   "name": "python",
   "nbconvert_exporter": "python",
   "pygments_lexer": "ipython3",
   "version": "3.9.12"
  }
 },
 "nbformat": 4,
 "nbformat_minor": 5
}
