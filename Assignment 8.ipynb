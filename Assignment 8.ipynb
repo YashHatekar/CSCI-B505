{
 "cells": [
  {
   "cell_type": "markdown",
   "id": "b435825c",
   "metadata": {},
   "source": [
    "## Problem 1"
   ]
  },
  {
   "cell_type": "code",
   "execution_count": 76,
   "id": "9627d080",
   "metadata": {},
   "outputs": [],
   "source": [
    "import heapq\n",
    "def maxEmployees(list1 , list2):\n",
    "    heapq.heapify(list1)\n",
    "    heapq.heapify(list2)\n",
    "    list3 = list1+list2\n",
    "    heapq.heapify(list3)\n",
    "    count = 0\n",
    "    inflag = 0\n",
    "    outflag = 0\n",
    "    max_count =0\n",
    "    present = []\n",
    "    counter = []\n",
    "    if len(list1)==0 or len(list2) == 0:\n",
    "        print('Missing times')\n",
    "    else:\n",
    "        while len(list3)!=0:\n",
    "            if len(list1)!=0:\n",
    "                intime = heapq.heappop(list1)\n",
    "                inflag = 1\n",
    "            if len(list2)!=0:\n",
    "                outtime = heapq.heappop(list2)\n",
    "                outflag = 1\n",
    "            time = heapq.heappop(list3)\n",
    "#         print('----',time,intime,outtime,'----')\n",
    "            if time == intime and inflag == 1:\n",
    "#             counter[time]+=1\n",
    "                count+=1\n",
    "                heapq.heappush(list2,outtime)\n",
    "                intime=-1\n",
    "                inflag = 0\n",
    "            elif time == outtime and outflag == 1:\n",
    "#             counter[time]-=1\n",
    "                count-=1\n",
    "                heapq.heappush(list1,intime)\n",
    "                outtime=-1\n",
    "                outflag = 0\n",
    "            present.append(count)\n",
    "#         print(count)\n",
    "        heapq._heapify_max(present)\n",
    "        max_count = heapq.heappop(present)\n",
    "        while len(present)!=0:\n",
    "            conter = heapq.heappop(present)\n",
    "            if conter>=max_count:\n",
    "                counter.append(conter)\n",
    "        return max_count,len(counter)+1"
   ]
  },
  {
   "cell_type": "code",
   "execution_count": 79,
   "id": "e6a372b0",
   "metadata": {},
   "outputs": [
    {
     "name": "stdout",
     "output_type": "stream",
     "text": [
      "(3, 2)\n",
      "(3, 5)\n",
      "(1, 2)\n",
      "(3, 1)\n"
     ]
    }
   ],
   "source": [
    "list1 = [1, 2, 4, 7, 8, 12]\n",
    "list2 = [3, 7, 8, 12, 10, 15 ]\n",
    "list3 = [2,2,3,5,6,7,10]\n",
    "list4 = [4,5,7,10,6,10,11]\n",
    "list5 = [1,2]\n",
    "list6 = [1,4]\n",
    "print(maxEmployees(list1,list2))\n",
    "print(maxEmployees(list3,list4))\n",
    "print(maxEmployees(list5,list6))\n",
    "print(maxEmployees([2,4,5,8,14],[6,7,8,9,15]))"
   ]
  },
  {
   "cell_type": "markdown",
   "id": "47b276ec",
   "metadata": {},
   "source": [
    "## Problem 2"
   ]
  },
  {
   "cell_type": "code",
   "execution_count": 52,
   "id": "b516035c",
   "metadata": {},
   "outputs": [],
   "source": [
    "import heapq\n",
    "def find_largest_integer(num):\n",
    "    nstr = list(str(num))\n",
    "    i = -1\n",
    "    for i in range((len(str(num)) - 1), 0, -1):\n",
    "#         print(nstr[i] ,nstr[i - 1])\n",
    "        if nstr[i] < nstr[i - 1]:\n",
    "            break\n",
    "    if i == 0:\n",
    "        return\n",
    "    x, large = nstr[i - 1], i\n",
    "#     print(i,x,large)\n",
    "    j =-1\n",
    "    for j in range(i, len(str(num))):\n",
    "#         print(nstr[j],nstr[large])\n",
    "        if (nstr[j] < x and nstr[j] > nstr[large]):\n",
    "            large = j\n",
    "    (nstr[large],nstr[i - 1]) = (nstr[i - 1],nstr[large])\n",
    "    temp = nstr[i:]\n",
    "    nstr[i:] = ''\n",
    "    nstr += temp\n",
    "    nstr = '' . join(nstr)\n",
    "    if int(nstr) > num:\n",
    "        return num\n",
    "    else:\n",
    "        return nstr"
   ]
  },
  {
   "cell_type": "code",
   "execution_count": 53,
   "id": "054d197c",
   "metadata": {},
   "outputs": [
    {
     "name": "stdout",
     "output_type": "stream",
     "text": [
      "527\n",
      "16258\n",
      "182455\n",
      "252346\n",
      "1234\n"
     ]
    }
   ],
   "source": [
    "print(find_largest_integer(572))\n",
    "print(find_largest_integer(18256))\n",
    "print(find_largest_integer(182545))\n",
    "print(find_largest_integer(262345))\n",
    "print(find_largest_integer(1234))"
   ]
  },
  {
   "cell_type": "markdown",
   "id": "3ddd5e37",
   "metadata": {},
   "source": [
    "## Problem 3"
   ]
  },
  {
   "cell_type": "code",
   "execution_count": 57,
   "id": "45e98e2a",
   "metadata": {},
   "outputs": [],
   "source": [
    "def helpqsort(ar, beg, end):\n",
    "        if end - beg >= 2:\n",
    "            piv = ar[end-1]\n",
    "            pos = beg\n",
    "#             print(piv,pos)\n",
    "            for i in range(beg, end-1):\n",
    "#                 print(ar[i],piv)\n",
    "                if ar[i] < piv:\n",
    "                    if i != pos:\n",
    "                        ar[i],ar[pos]=ar[pos],ar[i]\n",
    "                    pos+=1\n",
    "            ar[pos],ar[end-1]=ar[end-1],ar[pos]\n",
    "#             print(ar)\n",
    "            helpqsort(ar,beg,pos)\n",
    "            helpqsort(ar,pos+1,end)\n",
    "def quicksort(arr):\n",
    "    n = len(arr)\n",
    "    helpqsort(arr, 0, n)\n",
    "    return arr"
   ]
  },
  {
   "cell_type": "code",
   "execution_count": 58,
   "id": "35da79b7",
   "metadata": {},
   "outputs": [
    {
     "name": "stdout",
     "output_type": "stream",
     "text": [
      "[1, 2, 3, 4]\n",
      "[1, 2, 3, 7, 7]\n"
     ]
    }
   ],
   "source": [
    "print(quicksort([4,3,1,2]))\n",
    "print(quicksort([7,7,3,2,1]))"
   ]
  },
  {
   "cell_type": "markdown",
   "id": "3848abc5",
   "metadata": {},
   "source": [
    "## Problem 4"
   ]
  },
  {
   "cell_type": "code",
   "execution_count": 122,
   "id": "68e66a1e",
   "metadata": {},
   "outputs": [],
   "source": [
    "class node:\n",
    "    def __init__(self, val, lt=None, rt=None):\n",
    "        self.val = val\n",
    "        self.lt = lt\n",
    "        self.rt = rt\n",
    "\n",
    "class Wavelet_Tree:\n",
    "    def __init__(self ,A:list[int]):\n",
    "        self.A = A\n",
    "        self.valfreq = []\n",
    "        self.mid = (min(self.A) + max(self.A)) / 2\n",
    "        self.freq = [0] * len(self.A)\n",
    "        for i in range(len(self.A)):\n",
    "            if self.A[i] > self.mid:\n",
    "                self.freq[i] = 1\n",
    "        self.valfreq.append(self.A)\n",
    "        self.valfreq.append(self.freq)\n",
    "        self.createWaveletTree()\n",
    "    def createWaveletTree(self):\n",
    "        stack = []\n",
    "        lvl = 0\n",
    "        self.root = node(self.valfreq)\n",
    "        stack.append(self.root)\n",
    "        while(stack):\n",
    "            lvlordtree = []\n",
    "            for j in range(len(stack)):\n",
    "                curr = stack.pop(0)\n",
    "                if len(set(curr.val[0])) == 1:\n",
    "                    continue\n",
    "                self.mid = (min(curr.val[0]) + max(curr.val[0])) / 2\n",
    "                leftnum = []\n",
    "                rightnum = []\n",
    "                curr = curr\n",
    "                if(len(curr.val[0])) < 2:\n",
    "                    continue\n",
    "                for i in range(len(curr.val[0])):\n",
    "                    if curr.val[0][i] <= self.mid:\n",
    "                        if leftnum == []:\n",
    "                            leftnum.append([curr.val[0][i]])\n",
    "                            leftnum.append([0])\n",
    "                        else:\n",
    "                            leftnum[0].append(curr.val[0][i])\n",
    "                            leftnum[1].append(0)\n",
    "                    else:\n",
    "                        if rightnum == []:\n",
    "                            rightnum.append([curr.val[0][i]])\n",
    "                            rightnum.append([1])\n",
    "                        else:\n",
    "                            rightnum[0].append(curr.val[0][i])\n",
    "                            rightnum[1].append(1)\n",
    "                            \n",
    "                if leftnum != []:\n",
    "                    midlt = (min(leftnum[0]) + max(leftnum[0])) / 2\n",
    "                if rightnum != []:\n",
    "                    midrt = (min(rightnum[0]) + max(rightnum[0])) / 2\n",
    "                    \n",
    "                if leftnum != []:\n",
    "                    for k in range(len(leftnum[0])):\n",
    "                        if leftnum[0][k] <= midlt:\n",
    "                            leftnum[1][k] = 0\n",
    "                        else:\n",
    "                            leftnum[1][k] = 1\n",
    "                    curr.lt = node(leftnum)\n",
    "                if rightnum != []:\n",
    "                    for m in range(len(rightnum[0])):\n",
    "                        if rightnum[0][m] <= midrt:\n",
    "                            rightnum[1][m] = 0\n",
    "                        else:\n",
    "                            rightnum[1][m] = 1\n",
    "                    curr.rt = node(rightnum)\n",
    "                    \n",
    "                if curr.lt:\n",
    "                    stack.append(curr.lt)\n",
    "                if curr.rt:\n",
    "                    stack.append(curr.rt)\n",
    "#             print(leftnum,rightnum)\n",
    "    def print(self):\n",
    "        stack = []\n",
    "        lvl = 0\n",
    "        #self.root = node(self.valfreq)\n",
    "        stack.append(self.root)\n",
    "        lvlordtree = [''.join(str(x) for x in self.root.val[1])]\n",
    "        print('level ',lvl, ': ', lvlordtree)\n",
    "        while(stack):\n",
    "            lvlordtree = []\n",
    "            for j in range(len(stack)):\n",
    "                curr = stack.pop(0)\n",
    "                #print(curr)\n",
    "                if len(set(curr.val[0])) == 1:\n",
    "                    continue\n",
    "                if(len(curr.val[0])) < 2:\n",
    "                    continue\n",
    "                if curr.lt:\n",
    "                    stack.append(curr.lt)\n",
    "                    if curr.lt.val[1] != [0] and curr.lt.val[1] != [1]:\n",
    "                        lvlordtree.append(''.join(str(x) for x in curr.lt.val[1]))\n",
    "                    else:\n",
    "                        lvlordtree.append('X')\n",
    "                if curr.rt:\n",
    "                    stack.append(curr.rt)\n",
    "                    if curr.rt.val[1] != [0] and curr.rt.val[1] != [1]:\n",
    "                        lvlordtree.append(''.join(str(x) for x in curr.rt.val[1]))\n",
    "                    else:\n",
    "                        lvlordtree.append('X')\n",
    "            if len(set(lvlordtree)) == 1 and lvlordtree[0] == 'X':\n",
    "                continue\n",
    "            if lvlordtree != []:\n",
    "                lvl += 1\n",
    "                print('level ',lvl, ': ', lvlordtree)\n",
    "                    \n",
    "    def RQQ(self , k:int , lt:int , rt:int):\n",
    "        curr = self.root\n",
    "        lvl = 0\n",
    "        while curr:\n",
    "            self.rank(k, lt, rt, curr)\n",
    "            rqqTuple = (k,lt,rt)\n",
    "            print('level ',lvl,': ',rqqTuple)\n",
    "            if self.zero_lt_to_rt >= k:\n",
    "                lt = self.zero_1_to_lt + 1\n",
    "                rt = self.zero_1_to_rt\n",
    "                rqqTuple = (k,lt,rt)\n",
    "                if k == 1 and lt == 1 and rt == 1:\n",
    "                    print('level ',lvl+1,': ',rqqTuple)\n",
    "                    curr = curr.lt\n",
    "                    break\n",
    "                if curr.lt:\n",
    "                    curr = curr.lt\n",
    "                else:\n",
    "                    break\n",
    "            else:\n",
    "                k =k - self.zero_lt_to_rt\n",
    "                lt = self.one_1_to_lt + 1\n",
    "                rt = self.one_1_to_rt\n",
    "                rqqTuple = (k,lt,rt)\n",
    "                if k == 1 and lt == 1 and rt == 1:\n",
    "                    print('level ',lvl+1,': ',rqqTuple)\n",
    "                    curr = curr.rt\n",
    "                    break\n",
    "                if curr.rt:\n",
    "                    curr = curr.rt\n",
    "                else:\n",
    "                    break\n",
    "            lvl += 1\n",
    "        #return curr.val[0]\n",
    "    def rank(self, k, lt, rt, currNode):\n",
    "        self.zero_1_to_lt = currNode.val[1][:lt-1].count(0)\n",
    "        self.zero_lt_to_rt = currNode.val[1][lt-1:rt].count(0)\n",
    "        self.zero_1_to_rt = currNode.val[1][:rt].count(0)\n",
    "        self.one_1_to_lt = currNode.val[1][:lt-1].count(1)\n",
    "        self.one_lt_to_rt = currNode.val[1][lt-1:rt].count(1)\n",
    "        self.one_1_to_rt = currNode.val[1][:rt].count(1)"
   ]
  },
  {
   "cell_type": "code",
   "execution_count": 123,
   "id": "2d7faf57",
   "metadata": {},
   "outputs": [
    {
     "name": "stdout",
     "output_type": "stream",
     "text": [
      "level  0 :  ['1001100110']\n",
      "level  1 :  ['00101', '00110']\n",
      "level  2 :  ['100', '01', '010', '10']\n",
      "level  3 :  ['01', 'X', 'X', 'X', '10', 'X', 'X', 'X']\n",
      "level  0 :  (5, 3, 9)\n",
      "level  1 :  (2, 2, 5)\n",
      "level  2 :  (2, 2, 3)\n",
      "level  3 :  (1, 1, 1)\n"
     ]
    }
   ],
   "source": [
    "wv_tree = Wavelet_Tree([6, 2, 0, 7, 9, 3, 1, 8, 5, 4])\n",
    "wv_tree.print()\n",
    "wv_tree.RQQ(5, 3, 9)"
   ]
  },
  {
   "cell_type": "markdown",
   "id": "959fcc6c",
   "metadata": {},
   "source": [
    "## Problem 5"
   ]
  },
  {
   "cell_type": "markdown",
   "id": "7468e91c",
   "metadata": {},
   "source": [
    "Greedy will not give us the optimal solution.\n",
    "Reason - The algorithm will always try to concatinate two strings which have max overlap but there can be cases where in the algorithm will choose a string which is correct but not the most optimal.\n",
    "Example - \n",
    "GCC, CCT, CCC\n",
    "algorithm might generate - GCCTCCC if it takes GCC,CCT to concatinate.\n",
    "optimal - GCCCT"
   ]
  },
  {
   "cell_type": "code",
   "execution_count": 233,
   "id": "ce06fd62",
   "metadata": {},
   "outputs": [],
   "source": [
    "import itertools\n",
    "def max_overlap(words, word1, word2,combsame,result):\n",
    "#     print(words,word1,word2,combsame,result)\n",
    "    if len(word1 + \"\".join(words)) < len(result[0]):\n",
    "        result[0] = word1 + \"\".join(words)\n",
    "    if words and any(word in words for word in combsame[word2][1:]):    \n",
    "        for word in combsame[word2][1:]:\n",
    "#             print(word)\n",
    "            if word in words:\n",
    "                max_overlap(words - {word}, word1 + word[combsame[word2][0]:], word,combsame,result)\n",
    "    else:\n",
    "        for nextw in words:\n",
    "            for word in combsame[nextw][1:]:\n",
    "                if word in words:\n",
    "                    max_overlap(words - {nextw, word}, \n",
    "                                word1 + nextw + word[combsame[nextw][0]:], word,combsame,result)\n",
    "\n",
    "def shortest_superstring(A : list[str]):\n",
    "    combsame = {}\n",
    "    result = [\"\".join(A)]\n",
    "    combs = itertools.combinations(A, 2)\n",
    "    for str1,str2 in combs:\n",
    "        for i in range(2):\n",
    "            eflag = False\n",
    "            if i == 0:\n",
    "                for j in range(len(str2), 0, -1):\n",
    "#                     print(str1[::-1],str2[:j])\n",
    "                    if str1.endswith(str2[:j]):\n",
    "                        eflag = True\n",
    "                        same = j\n",
    "                if not eflag:\n",
    "                    same = 0\n",
    "                if str1 not in combsame or same > combsame[str1][0]:\n",
    "                    combsame[str1] = [same, str2]\n",
    "                elif same == combsame[str1][0]:\n",
    "                    combsame[str1].append(str2)\n",
    "            else:\n",
    "                for j in range(len(str1), 0, -1):\n",
    "#                     print(str2[::-1],str1[:j])\n",
    "                    if str2.endswith(str1[:j]):\n",
    "                        eflag = True\n",
    "                        same = j\n",
    "                if not eflag:\n",
    "                    same = 0\n",
    "                if str2 not in combsame or same > combsame[str2][0]:\n",
    "                    combsame[str2] = [same, str1]\n",
    "                elif same == combsame[str2][0]:\n",
    "                    combsame[str2].append(str1)\n",
    "    for word in A:\n",
    "        max_overlap(set(A) - {word}, word, word,combsame,result)\n",
    "    return result[0]"
   ]
  },
  {
   "cell_type": "code",
   "execution_count": 234,
   "id": "e2bc1501",
   "metadata": {},
   "outputs": [
    {
     "name": "stdout",
     "output_type": "stream",
     "text": [
      "GCTAAGTTCATGCATC\n",
      "ACTABTAVC\n",
      "PQRSERSQR\n"
     ]
    }
   ],
   "source": [
    "print(shortest_superstring([\"CATGC\", \"CTAAGT\", \"GCTA\", \"TTCA\", \"ATGCATC\"]))\n",
    "print(shortest_superstring([\"ACTA\",\"TAVC\",\"TABTA\"]))\n",
    "print(shortest_superstring([\"PQRS\",\"RSQR\",\"QRSE\"]))"
   ]
  },
  {
   "cell_type": "markdown",
   "id": "3abbcd0f",
   "metadata": {},
   "source": [
    "## Problem 6"
   ]
  },
  {
   "cell_type": "code",
   "execution_count": 356,
   "id": "60d134cf",
   "metadata": {},
   "outputs": [],
   "source": [
    "def find_circle_A(B):\n",
    "    n=len(B)\n",
    "    if n%3==0:\n",
    "        return -1\n",
    "    \n",
    "    tmp=[0]*(n**2)\n",
    "    j=0\n",
    "    #Using inverse martix logic AX = B,X = BA^(-1) -A inverse\n",
    "    a=[-0.333333,0.66666,-0.3333]\n",
    "\n",
    "    if n%3==1:\n",
    "        a=[0.333333,0.33333,-0.66666]\n",
    "\n",
    "    A=[0]*n\n",
    "    for i in range(len(tmp)):\n",
    "        if tmp[i]==0:\n",
    "          #print(i,a[j%3])\n",
    "            tmp[i]=a[j%3]\n",
    "            tmp_r=i//n\n",
    "            tmp_c=i%n\n",
    "            ind=n*tmp_c+tmp_r\n",
    "            #print(i,ind,a[j%3])\n",
    "            tmp[ind]=a[j%3]\n",
    "            j+=1\n",
    "            if (i+1)%n==0:\n",
    "                j=0\n",
    "\n",
    "    #for i in range(n**2):\n",
    "    #    print(i//n,i%n,A[i])\n",
    "    for i in range(len(tmp)):\n",
    "        tmp_r=i//n\n",
    "        tmp_c=i%n\n",
    "        ind=n*tmp_r+tmp_c\n",
    "        #print(i,ind,tmp_r,tmp_c,tmp[ind],B[i%n])\n",
    "        A[i//n]+=float(tmp[ind])*B[i%n]\n",
    "\n",
    "    for i in range(len(A[:])):\n",
    "        A[i]=round(A[i])\n",
    "\n",
    "    return A"
   ]
  },
  {
   "cell_type": "code",
   "execution_count": 357,
   "id": "92b624a6",
   "metadata": {},
   "outputs": [
    {
     "data": {
      "text/plain": [
       "[79, 9, 41, 12, 91]"
      ]
     },
     "execution_count": 357,
     "metadata": {},
     "output_type": "execute_result"
    }
   ],
   "source": [
    "find_circle_A([179,129,62,144,182])"
   ]
  },
  {
   "cell_type": "code",
   "execution_count": 358,
   "id": "adf8a44e",
   "metadata": {},
   "outputs": [
    {
     "data": {
      "text/plain": [
       "[1, 2, 3, 4, 5, 6, 7]"
      ]
     },
     "execution_count": 358,
     "metadata": {},
     "output_type": "execute_result"
    }
   ],
   "source": [
    "find_circle_A([10, 6, 9, 12, 15, 18, 14])"
   ]
  },
  {
   "cell_type": "code",
   "execution_count": 359,
   "id": "29eec818",
   "metadata": {},
   "outputs": [
    {
     "data": {
      "text/plain": [
       "[1, 2, 1, 2]"
      ]
     },
     "execution_count": 359,
     "metadata": {},
     "output_type": "execute_result"
    }
   ],
   "source": [
    "find_circle_A([5,4,5,4])"
   ]
  },
  {
   "cell_type": "code",
   "execution_count": 360,
   "id": "9dc26a80",
   "metadata": {},
   "outputs": [
    {
     "data": {
      "text/plain": [
       "[1, 2, 3, 4]"
      ]
     },
     "execution_count": 360,
     "metadata": {},
     "output_type": "execute_result"
    }
   ],
   "source": [
    "find_circle_A([7,6,9,8])"
   ]
  },
  {
   "cell_type": "code",
   "execution_count": 361,
   "id": "603e3d60",
   "metadata": {},
   "outputs": [
    {
     "data": {
      "text/plain": [
       "[1, 2, 3, 4, 5, 6, 7, 8]"
      ]
     },
     "execution_count": 361,
     "metadata": {},
     "output_type": "execute_result"
    }
   ],
   "source": [
    "find_circle_A( [11, 6, 9, 12, 15, 18, 21, 16])"
   ]
  },
  {
   "cell_type": "code",
   "execution_count": 349,
   "id": "402d31cb",
   "metadata": {},
   "outputs": [],
   "source": [
    "def input_create(num):\n",
    "    n=[]\n",
    "    for i in range(num):\n",
    "        n.append(i+1)\n",
    "    A=[]\n",
    "    A.append(n[len(n)-1]+n[0]+n[1])\n",
    "    for i in range(0,len(n)-1):\n",
    "        if i+2 < num:\n",
    "            A.append(n[i]+n[i+1]+n[i+2])\n",
    "    A.append(n[len(n)-2]+n[len(n)-1]+n[0])\n",
    "    sumA=0\n",
    "    for i in A:\n",
    "        sumA+=i\n",
    "    return n,A,sumA"
   ]
  },
  {
   "cell_type": "code",
   "execution_count": 350,
   "id": "161a3ec6",
   "metadata": {},
   "outputs": [
    {
     "data": {
      "text/plain": [
       "([1, 2, 3, 4], [7, 6, 9, 8], 30)"
      ]
     },
     "execution_count": 350,
     "metadata": {},
     "output_type": "execute_result"
    }
   ],
   "source": [
    "input_create(4)"
   ]
  },
  {
   "cell_type": "code",
   "execution_count": 351,
   "id": "89ff34ae",
   "metadata": {},
   "outputs": [
    {
     "data": {
      "text/plain": [
       "([1, 2, 3, 4, 5], [8, 6, 9, 12, 10], 45)"
      ]
     },
     "execution_count": 351,
     "metadata": {},
     "output_type": "execute_result"
    }
   ],
   "source": [
    "input_create(5)"
   ]
  },
  {
   "cell_type": "code",
   "execution_count": 353,
   "id": "04044528",
   "metadata": {},
   "outputs": [
    {
     "data": {
      "text/plain": [
       "([1, 2, 3, 4, 5, 6, 7, 8], [11, 6, 9, 12, 15, 18, 21, 16], 108)"
      ]
     },
     "execution_count": 353,
     "metadata": {},
     "output_type": "execute_result"
    }
   ],
   "source": [
    "input_create(8)"
   ]
  },
  {
   "cell_type": "code",
   "execution_count": null,
   "id": "295c6e3e",
   "metadata": {},
   "outputs": [],
   "source": []
  }
 ],
 "metadata": {
  "kernelspec": {
   "display_name": "Python 3 (ipykernel)",
   "language": "python",
   "name": "python3"
  },
  "language_info": {
   "codemirror_mode": {
    "name": "ipython",
    "version": 3
   },
   "file_extension": ".py",
   "mimetype": "text/x-python",
   "name": "python",
   "nbconvert_exporter": "python",
   "pygments_lexer": "ipython3",
   "version": "3.9.12"
  }
 },
 "nbformat": 4,
 "nbformat_minor": 5
}
