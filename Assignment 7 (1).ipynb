{
 "cells": [
  {
   "cell_type": "markdown",
   "id": "deac8cc3",
   "metadata": {},
   "source": [
    "## Problem 1"
   ]
  },
  {
   "cell_type": "code",
   "execution_count": 8,
   "id": "727f4822",
   "metadata": {},
   "outputs": [],
   "source": [
    "def additional_seats (k , h ):\n",
    "    h.sort()\n",
    "    cab = []\n",
    "    pickup = []\n",
    "    drop = []\n",
    "    points = []\n",
    "    ans = 0\n",
    "    for i in h:\n",
    "        if i[0] not in pickup:\n",
    "            pickup.append(i[0])\n",
    "        if i[1] not in drop:\n",
    "            drop.append(i[1])\n",
    "    points = list(set(pickup+drop))\n",
    "    points.sort()\n",
    "    #print(pickup)\n",
    "    #print(drop)\n",
    "    #print(points)\n",
    "#     for i in pickup:\n",
    "#         for k in drop:\n",
    "#             for j in h:\n",
    "#                 if j[0]==i:\n",
    "#                     cab.append(j)\n",
    "#                     if len(cab)>k:\n",
    "#                         ans+=1\n",
    "#                 if j[1]==k:\n",
    "#                     cab.pop(0)\n",
    "                    \n",
    "    for i in points:\n",
    "#         print(i)\n",
    "        for j in h:\n",
    "#             print(j)\n",
    "            if j[0]==i:\n",
    "                cab.append(j)\n",
    "#                 print(cab)\n",
    "                if len(cab)>k:\n",
    "                    ans+=1\n",
    "                    k+=ans\n",
    "                    #print('ans',ans)\n",
    "            if j[1]==i:\n",
    "                cab.pop(cab.index(j))\n",
    "    return ans"
   ]
  },
  {
   "cell_type": "code",
   "execution_count": 9,
   "id": "281213fb",
   "metadata": {},
   "outputs": [
    {
     "name": "stdout",
     "output_type": "stream",
     "text": [
      "1\n",
      "0\n"
     ]
    }
   ],
   "source": [
    "print(additional_seats(2, [[0,2],[1,2],[0,3],[2,3]]))\n",
    "print(additional_seats(3, [[8,10],[2,4],[7,11]]))"
   ]
  },
  {
   "cell_type": "code",
   "execution_count": 10,
   "id": "29644b0c",
   "metadata": {},
   "outputs": [
    {
     "name": "stdout",
     "output_type": "stream",
     "text": [
      "2\n"
     ]
    }
   ],
   "source": [
    "print(additional_seats(2, [[0,4],[0,10],[0,2],[1,2],[2,4],[3,5]]))"
   ]
  },
  {
   "cell_type": "markdown",
   "id": "f765ddc0",
   "metadata": {},
   "source": [
    "## Problem 2"
   ]
  },
  {
   "cell_type": "code",
   "execution_count": 11,
   "id": "632127fe",
   "metadata": {},
   "outputs": [],
   "source": [
    "import heapq\n",
    "def minimum_range ( lists ) :\n",
    "    routeq = []\n",
    "    for i in range(len(lists)):\n",
    "        routeq.append((lists[i][0],i,0))\n",
    "    heapq.heapify(routeq)\n",
    "    minall = []\n",
    "    maxall = []\n",
    "    ans = []\n",
    "    heapq.heapify(lists)\n",
    "    for i in lists:\n",
    "#         print(i)\n",
    "        minall.append(i[0])\n",
    "        tmp_len_i = len(i)\n",
    "        maxall.append(i[tmp_len_i-1])\n",
    "#     print(minall,maxall)        \n",
    "    heapq.heapify(minall)\n",
    "    ans.append(minall[0])\n",
    "    heapq._heapify_max(maxall)\n",
    "    ans.append(maxall[0])\n",
    "    right = max(row[0] for row in lists)\n",
    "    while routeq:\n",
    "        left, i, j = heapq.heappop(routeq)\n",
    "#         print(left,i,j,ans)\n",
    "        if right - left < ans[1] - ans[0]:\n",
    "            ans = left, right\n",
    "        if j + 1 == len(lists[i]):\n",
    "            return ans\n",
    "        replace = lists[i][j+1]\n",
    "#         print(replace)\n",
    "        right = max(right, replace)\n",
    "#         print(right)\n",
    "        heapq.heappush(routeq, (replace, i, j+1))"
   ]
  },
  {
   "cell_type": "code",
   "execution_count": 12,
   "id": "c4a2f00a",
   "metadata": {},
   "outputs": [
    {
     "name": "stdout",
     "output_type": "stream",
     "text": [
      "(4, 6)\n"
     ]
    }
   ],
   "source": [
    "print(minimum_range([[ 3, 6, 8, 10, 15],[ 1, 5, 12 ],[ 4, 8, 15, 16 ],[ 2, 6 ]]))"
   ]
  },
  {
   "cell_type": "code",
   "execution_count": 13,
   "id": "1ead1a27",
   "metadata": {},
   "outputs": [
    {
     "name": "stdout",
     "output_type": "stream",
     "text": [
      "(4, 7)\n"
     ]
    }
   ],
   "source": [
    "print(minimum_range( [[ 2, 3, 4, 8, 10, 15 ],[ 1, 5, 12 ],[ 7, 8, 15, 16 ],[ 3, 6 ]])) "
   ]
  },
  {
   "cell_type": "markdown",
   "id": "5a4cd845",
   "metadata": {},
   "source": [
    "## Problem 3"
   ]
  },
  {
   "cell_type": "code",
   "execution_count": 14,
   "id": "f019373d",
   "metadata": {},
   "outputs": [],
   "source": [
    "import heapq\n",
    "def encode ( s ) :\n",
    "    symbols = []\n",
    "    freq = []\n",
    "    count = []\n",
    "    for i in s:\n",
    "        if i not in symbols:\n",
    "            symbols.append(i)\n",
    "            freq.append(s.count(i))\n",
    "            count.append([s.count(i),i])\n",
    "    heapq.heapify(count)\n",
    "    #print(count)\n",
    "    codeword = {}\n",
    "    cdwd = []\n",
    "    while len(count)>1:\n",
    "        min1 = heapq.heappop(count)\n",
    "        codeword[min1[1]] = 0\n",
    "        min2 = heapq.heappop(count)\n",
    "        codeword[min2[1]] = 1\n",
    "        #print(min1[1],codeword[min1[1]],min2[1],codeword[min2[1]])\n",
    "        heapq.heappush(count,[min1[0]+min2[0],min1[1]+min2[1]])\n",
    "    #print(codeword)\n",
    "    for i in codeword.copy():\n",
    "        #print(i,len(i))\n",
    "        if len(i)>1:\n",
    "            cdwd = list(i)\n",
    "            for j in cdwd:\n",
    "                codeword[j] = str(codeword[j])+str(codeword[i])\n",
    "            codeword.pop(i)\n",
    "    for i in codeword:\n",
    "        codeword[i] = str(codeword[i])[::-1]\n",
    "    huff=''\n",
    "    for i in s:\n",
    "        #print(i)\n",
    "        huff+=str(codeword[i])\n",
    "    encode = {}\n",
    "    for i in sorted(codeword):\n",
    "        encode[i] = codeword[i]\n",
    "    return huff,encode\n",
    "def decode (s , d) :\n",
    "    string=''\n",
    "    while len(s)>1:\n",
    "        for k in d:\n",
    "            if s.startswith(d[k]):\n",
    "                string+=k\n",
    "                #print(k,string,len(d[k]))\n",
    "                s=s[len(d[k]):]\n",
    "                #print(s)\n",
    "#     for i in range(len(s)+1):\n",
    "#         for j in range(i+1,len(s)+1):\n",
    "#             tempcode = s[i:j]\n",
    "#             print(tempcode)\n",
    "#             for k in d:\n",
    "#                 if tempcode == d[k]:\n",
    "#                     string+=k\n",
    "#                     s=s[len(k):]\n",
    "#                     print(s)\n",
    "    return string"
   ]
  },
  {
   "cell_type": "code",
   "execution_count": 15,
   "id": "a5b646e3",
   "metadata": {},
   "outputs": [
    {
     "name": "stdout",
     "output_type": "stream",
     "text": [
      "('001011', {'a': '0', 'b': '10', 'c': '11'})\n",
      "('000000000000000111111111111111111111101101101101101101110110110110110110100100100100100', {'a': '0', 'b': '111', 'c': '101', 'd': '110', 'e': '100'})\n",
      "aabc\n",
      "aaaaaaaaaaaaaaabbbbbbbccccccddddddeeeee\n"
     ]
    }
   ],
   "source": [
    "s = 'aabc'\n",
    "print(encode(s))\n",
    "s1 = 'aaaaaaaaaaaaaaabbbbbbbccccccddddddeeeee'\n",
    "print(encode(s1))\n",
    "print(decode(*encode(s)))\n",
    "print(decode(*encode(s1)))"
   ]
  },
  {
   "cell_type": "markdown",
   "id": "ef4d9784",
   "metadata": {},
   "source": [
    "## Problem 4"
   ]
  },
  {
   "cell_type": "code",
   "execution_count": 16,
   "id": "553400ad",
   "metadata": {},
   "outputs": [],
   "source": [
    "import heapq\n",
    "def max_moves ( nums : list ) -> int :\n",
    "    maxmoves=0\n",
    "    heapq.heapify(nums)\n",
    "#     min1 = nums[0]\n",
    "#     heapq._heapify_max(nums)\n",
    "#     max1 = nums[0]\n",
    "#     heapq.heapify(nums)\n",
    "    while nums[0] != 0 or nums[1] != 0:\n",
    "        if nums[0]==0:\n",
    "            nums[1]-=1\n",
    "        elif nums[0]>0:\n",
    "#             print('reducing first element')\n",
    "            nums[0]-=1\n",
    "#         print(nums[0],'before maxheap')\n",
    "        else:\n",
    "            break\n",
    "        heapq._heapify_max(nums)\n",
    "        nums[0]-=1\n",
    "        max1 = nums[0]\n",
    "#         print(nums[0],'after maxheap')\n",
    "        maxmoves+=1\n",
    "        heapq.heapify(nums)\n",
    "        min1 = nums[0]\n",
    "#         print(nums)\n",
    "        if min1 == 0 and max1==0:\n",
    "            break\n",
    "    return maxmoves"
   ]
  },
  {
   "cell_type": "code",
   "execution_count": 17,
   "id": "e2b4c5ed",
   "metadata": {},
   "outputs": [
    {
     "data": {
      "text/plain": [
       "6"
      ]
     },
     "execution_count": 17,
     "metadata": {},
     "output_type": "execute_result"
    }
   ],
   "source": [
    "max_moves([2,4,6])"
   ]
  },
  {
   "cell_type": "code",
   "execution_count": 18,
   "id": "a9f0d5ef",
   "metadata": {},
   "outputs": [
    {
     "data": {
      "text/plain": [
       "7"
      ]
     },
     "execution_count": 18,
     "metadata": {},
     "output_type": "execute_result"
    }
   ],
   "source": [
    "max_moves([4,4,6])"
   ]
  },
  {
   "cell_type": "code",
   "execution_count": 19,
   "id": "54864fa2",
   "metadata": {},
   "outputs": [
    {
     "data": {
      "text/plain": [
       "3"
      ]
     },
     "execution_count": 19,
     "metadata": {},
     "output_type": "execute_result"
    }
   ],
   "source": [
    "max_moves([10,2,1])"
   ]
  },
  {
   "cell_type": "code",
   "execution_count": 20,
   "id": "bfd67cdc",
   "metadata": {},
   "outputs": [
    {
     "data": {
      "text/plain": [
       "1"
      ]
     },
     "execution_count": 20,
     "metadata": {},
     "output_type": "execute_result"
    }
   ],
   "source": [
    "max_moves([1,1,1])"
   ]
  },
  {
   "cell_type": "code",
   "execution_count": 21,
   "id": "4e3d080a",
   "metadata": {},
   "outputs": [
    {
     "data": {
      "text/plain": [
       "10"
      ]
     },
     "execution_count": 21,
     "metadata": {},
     "output_type": "execute_result"
    }
   ],
   "source": [
    "max_moves([5,5,10])"
   ]
  },
  {
   "cell_type": "code",
   "execution_count": 22,
   "id": "59bcb8b2",
   "metadata": {},
   "outputs": [
    {
     "data": {
      "text/plain": [
       "2"
      ]
     },
     "execution_count": 22,
     "metadata": {},
     "output_type": "execute_result"
    }
   ],
   "source": [
    "max_moves([5,1,1])"
   ]
  }
 ],
 "metadata": {
  "kernelspec": {
   "display_name": "Python 3 (ipykernel)",
   "language": "python",
   "name": "python3"
  },
  "language_info": {
   "codemirror_mode": {
    "name": "ipython",
    "version": 3
   },
   "file_extension": ".py",
   "mimetype": "text/x-python",
   "name": "python",
   "nbconvert_exporter": "python",
   "pygments_lexer": "ipython3",
   "version": "3.9.12"
  }
 },
 "nbformat": 4,
 "nbformat_minor": 5
}
