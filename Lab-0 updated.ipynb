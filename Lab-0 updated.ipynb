{
 "cells": [
  {
   "cell_type": "code",
   "execution_count": 1,
   "id": "36537f52",
   "metadata": {},
   "outputs": [
    {
     "name": "stdout",
     "output_type": "stream",
     "text": [
      "4\n"
     ]
    }
   ],
   "source": [
    "l3=[10,2,3,-1]\n",
    "l4=['%','+','-']\n",
    "tot =l3[0]\n",
    "i=1\n",
    "j=0\n",
    "if(len(l3)==len(l4)+1):\n",
    "    while i <= len(l3)-1:\n",
    "        while j <= len(l4)-1:\n",
    "            if l4[j]=='+':\n",
    "                tot=tot+l3[i]\n",
    "                break\n",
    "            elif l4[j]=='-':\n",
    "                tot=tot-l3[i]\n",
    "                break\n",
    "            elif l4[j]=='*':\n",
    "                tot=tot*l3[i]\n",
    "                break\n",
    "            elif l4[j]=='/':\n",
    "                tot=tot/l3[i]\n",
    "                break\n",
    "            elif l4[j]=='%':\n",
    "                tot=tot%l3[i]\n",
    "                break\n",
    "            else:\n",
    "                print('Invalid')\n",
    "        j+=1\n",
    "        i+=1\n",
    "    print(tot)\n",
    "else:\n",
    "    print(\"Invalid\")"
   ]
  },
  {
   "cell_type": "code",
   "execution_count": 2,
   "id": "0acd8353",
   "metadata": {},
   "outputs": [
    {
     "name": "stdout",
     "output_type": "stream",
     "text": [
      "5\n"
     ]
    }
   ],
   "source": [
    "l3=[3,4,7,9]\n",
    "l4=['+','+','-']\n",
    "tot =l3[0]\n",
    "i=1\n",
    "j=0\n",
    "if(len(l3)==len(l4)+1):\n",
    "    while i <= len(l3)-1:\n",
    "        while j <= len(l4)-1:\n",
    "            if l4[j]=='+':\n",
    "                tot=tot+l3[i]\n",
    "                break\n",
    "            elif l4[j]=='-':\n",
    "                tot=tot-l3[i]\n",
    "                break\n",
    "            elif l4[j]=='*':\n",
    "                tot=tot*l3[i]\n",
    "                break\n",
    "            elif l4[j]=='/':\n",
    "                tot=tot/l3[i]\n",
    "                break\n",
    "            elif l4[j]=='%':\n",
    "                tot=tot%l3[i]\n",
    "                break\n",
    "            else:\n",
    "                print('Invalid')\n",
    "        j+=1\n",
    "        i+=1\n",
    "    print(tot)\n",
    "else:\n",
    "    print(\"Invalid\")"
   ]
  },
  {
   "cell_type": "code",
   "execution_count": 3,
   "id": "e679ba66",
   "metadata": {},
   "outputs": [
    {
     "name": "stdout",
     "output_type": "stream",
     "text": [
      "Invalid\n"
     ]
    }
   ],
   "source": [
    "l3=[3,4,7,9]\n",
    "l4=['+','+']\n",
    "tot =l3[0]\n",
    "i=1\n",
    "j=0\n",
    "if(len(l3)==len(l4)+1):\n",
    "    while i <= len(l3)-1:\n",
    "        while j <= len(l4)-1:\n",
    "            if l4[j]=='+':\n",
    "                tot=tot+l3[i]\n",
    "                break\n",
    "            elif l4[j]=='-':\n",
    "                tot=tot-l3[i]\n",
    "                break\n",
    "            elif l4[j]=='*':\n",
    "                tot=tot*l3[i]\n",
    "                break\n",
    "            elif l4[j]=='/':\n",
    "                tot=tot/l3[i]\n",
    "                break\n",
    "            elif l4[j]=='%':\n",
    "                tot=tot%l3[i]\n",
    "                break\n",
    "            else:\n",
    "                print('Invalid')\n",
    "        j+=1\n",
    "        i+=1\n",
    "    print(tot)\n",
    "else:\n",
    "    print(\"Invalid\")"
   ]
  },
  {
   "cell_type": "code",
   "execution_count": null,
   "id": "9cc68acf",
   "metadata": {},
   "outputs": [],
   "source": []
  }
 ],
 "metadata": {
  "kernelspec": {
   "display_name": "Python 3 (ipykernel)",
   "language": "python",
   "name": "python3"
  },
  "language_info": {
   "codemirror_mode": {
    "name": "ipython",
    "version": 3
   },
   "file_extension": ".py",
   "mimetype": "text/x-python",
   "name": "python",
   "nbconvert_exporter": "python",
   "pygments_lexer": "ipython3",
   "version": "3.9.12"
  }
 },
 "nbformat": 4,
 "nbformat_minor": 5
}
