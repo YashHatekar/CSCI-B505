{
 "cells": [
  {
   "cell_type": "code",
   "execution_count": 1,
   "id": "ee209cf3",
   "metadata": {},
   "outputs": [],
   "source": [
    "class Node:\n",
    "    def __init__(self , data , left=None , right=None):\n",
    "        self.data = data\n",
    "        self.left = left\n",
    "        self.right = right\n",
    "class BST:\n",
    "    def __init__(self , node):\n",
    "        self.root = node\n",
    "    def __contains__(self, data):\n",
    "        node = self.root\n",
    "        while node != None:\n",
    "            #print(node.data)\n",
    "            if node.data == data:\n",
    "                return True\n",
    "            elif data<node.data:\n",
    "                node = node.left\n",
    "            elif data > node.data:\n",
    "                node = node.right\n",
    "            else:\n",
    "                return False\n",
    "    def insert(self,data):\n",
    "        if self.root == None:\n",
    "            self.root == Node(data)\n",
    "        else:\n",
    "            curr = self.root\n",
    "            while 1:\n",
    "                if curr.data < data:\n",
    "                    if curr.right:\n",
    "                        curr = curr.right\n",
    "                    else:\n",
    "                        curr.right = Node(data)\n",
    "                        break\n",
    "                if curr.data > data:\n",
    "                    if curr.left:\n",
    "                        curr = curr.left\n",
    "                    else:\n",
    "                        curr.left = Node(data)\n",
    "                        break\n",
    "            return self.root\n",
    "    def delete(self,data):\n",
    "        curr = self.root\n",
    "        prev = None\n",
    "        #check for value in the tree\n",
    "        if data in self:\n",
    "            #check if delete node has 1 or no child\n",
    "            if curr.left==None or curr.right==None:\n",
    "                #replace the deleted node with new node\n",
    "                newcurr = None\n",
    "                if curr.left==None:\n",
    "                    newcurr=curr.right\n",
    "                else:\n",
    "                    newcurr=curr.left\n",
    "                if prev==None:\n",
    "                    return\n",
    "                #replace deleted node with newCurr\n",
    "                if curr==prev.left:\n",
    "                    prev.left=newcurr\n",
    "                else:\n",
    "                    prev.right=newcurr\n",
    "                curr=None\n",
    "            #node has 2 childern\n",
    "            else:\n",
    "                i=None\n",
    "                t=None\n",
    "                t=curr.right\n",
    "                while(t.left!=None):\n",
    "                    i=t\n",
    "                    t=t.left\n",
    "                #if not root then left child of parent equal to the inorder successor right child\n",
    "                if i!=None:\n",
    "                    i.left=t.right\n",
    "                # if root, then make the right child equal to the right child of the inorder successor\n",
    "                else:\n",
    "                    curr.right=t.right\n",
    "                curr.data=t.data\n",
    "                t=None\n",
    "        return\n",
    "    def preorder(self):\n",
    "        pre_trav = []\n",
    "        ##inorder R L root\n",
    "        stack = [(self.root,False)]\n",
    "        while stack:\n",
    "            curr,visit = stack.pop()\n",
    "            if curr:\n",
    "                if visit:\n",
    "                    pre_trav.append(curr.data)\n",
    "                else:\n",
    "                    stack.append((curr.right,False))\n",
    "                    stack.append((curr.left,False))\n",
    "                    stack.append((curr,True))\n",
    "        return pre_trav\n",
    "    def postorder(self):\n",
    "        post_trav = []\n",
    "        ##postorder l R root\n",
    "        stack = [(self.root,False)]\n",
    "        while stack:\n",
    "            curr,visit = stack.pop()\n",
    "            if curr:\n",
    "                if visit:\n",
    "                    post_trav.append(curr.data)\n",
    "                else:\n",
    "                    stack.append((curr,True))\n",
    "                    stack.append((curr.right,False))\n",
    "                    stack.append((curr.left,False))\n",
    "        return post_trav\n",
    "    def inorder(self):\n",
    "        in_trav = []\n",
    "        ##inorder l root R\n",
    "        stack = [(self.root,False)]\n",
    "        while stack:\n",
    "            curr,visit = stack.pop()\n",
    "            if curr:\n",
    "                if visit:\n",
    "                    in_trav.append(curr.data)\n",
    "                else:\n",
    "                    stack.append((curr.right,False))\n",
    "                    stack.append((curr,True))\n",
    "                    stack.append((curr.left,False))\n",
    "        return in_trav\n",
    "    def level_order(self):\n",
    "        lvl_trav = []\n",
    "        trav = []\n",
    "        lvl_trav.append(self.root)\n",
    "        while len(lvl_trav)!=0:\n",
    "            i = lvl_trav.pop(0)\n",
    "            #pop the node with children\n",
    "            trav.append(i.data)\n",
    "            if i.left != None:\n",
    "                #check left nodes\n",
    "                lvl_trav.append(i.left)\n",
    "            if i.right != None:\n",
    "                lvl_trav.append(i.right)\n",
    "        return trav\n",
    "    def diameter(self):\n",
    "        curr = self.root\n",
    "        if curr==None:\n",
    "            return 0\n",
    "        self.root = self.root.left\n",
    "        #calcualting height and diameter of left sub tree\n",
    "        lht = self.height()+1\n",
    "        ldi = self.diameter()\n",
    "        self.root = curr\n",
    "        self.root = self.root.right\n",
    "        #calcualting height and diameter of right sub tree\n",
    "        rht = self.height()+1\n",
    "        rdi = self.diameter()\n",
    "        self.root =curr\n",
    "        #print(lh,rh,ld,rd)\n",
    "        return max(lht + rht, max(ldi, rdi))\n",
    "    def height(self):\n",
    "        if self.root == None:\n",
    "            return 0\n",
    "        else:\n",
    "            curr = self.root\n",
    "            height = 0\n",
    "            trav=[]\n",
    "            trav.append(curr)\n",
    "            trav.append(None)\n",
    "            #traversing level by level and incrementing the count at leaf nodes\n",
    "            while(len(trav)>0):\n",
    "                temp=trav[0]\n",
    "                trav = trav[1:]\n",
    "                if temp==None:\n",
    "                    height+=1\n",
    "                if temp!= None:\n",
    "                    if temp.left:\n",
    "                        trav.append(temp.left)\n",
    "                    if temp.right:\n",
    "                        trav.append(temp.right)\n",
    "                elif(len(trav)>0):\n",
    "                    trav.append(None)\n",
    "            return height-1\n",
    "    def max(self):\n",
    "        curr = self.root.right\n",
    "        #by property of bst max value element should be the right most node\n",
    "        while curr.right != None:\n",
    "            curr = curr.right\n",
    "        return curr.data"
   ]
  },
  {
   "cell_type": "code",
   "execution_count": 2,
   "id": "5c885824",
   "metadata": {},
   "outputs": [],
   "source": [
    "nodel = Node(5, Node(1), Node(7))\n",
    "noder = Node(15, Node(12), Node(17))\n",
    "t = BST(Node(0))\n",
    "t = BST (Node(10, nodel, noder))\n"
   ]
  },
  {
   "cell_type": "code",
   "execution_count": 3,
   "id": "3cf01bca",
   "metadata": {
    "scrolled": false
   },
   "outputs": [
    {
     "data": {
      "text/plain": [
       "17"
      ]
     },
     "execution_count": 3,
     "metadata": {},
     "output_type": "execute_result"
    }
   ],
   "source": [
    "t.max()"
   ]
  },
  {
   "cell_type": "code",
   "execution_count": 4,
   "id": "7725d5ec",
   "metadata": {},
   "outputs": [
    {
     "data": {
      "text/plain": [
       "True"
      ]
     },
     "execution_count": 4,
     "metadata": {},
     "output_type": "execute_result"
    }
   ],
   "source": [
    "15 in t"
   ]
  },
  {
   "cell_type": "code",
   "execution_count": 5,
   "id": "1f454345",
   "metadata": {},
   "outputs": [
    {
     "data": {
      "text/plain": [
       "True"
      ]
     },
     "execution_count": 5,
     "metadata": {},
     "output_type": "execute_result"
    }
   ],
   "source": [
    "100 not in t"
   ]
  },
  {
   "cell_type": "code",
   "execution_count": 6,
   "id": "abe36f3c",
   "metadata": {},
   "outputs": [
    {
     "data": {
      "text/plain": [
       "2"
      ]
     },
     "execution_count": 6,
     "metadata": {},
     "output_type": "execute_result"
    }
   ],
   "source": [
    "t.height()"
   ]
  },
  {
   "cell_type": "code",
   "execution_count": 7,
   "id": "b9ae8028",
   "metadata": {},
   "outputs": [
    {
     "data": {
      "text/plain": [
       "4"
      ]
     },
     "execution_count": 7,
     "metadata": {},
     "output_type": "execute_result"
    }
   ],
   "source": [
    "t.diameter()"
   ]
  },
  {
   "cell_type": "code",
   "execution_count": 8,
   "id": "3e63a150",
   "metadata": {},
   "outputs": [
    {
     "data": {
      "text/plain": [
       "[1, 5, 7, 10, 12, 15, 17]"
      ]
     },
     "execution_count": 8,
     "metadata": {},
     "output_type": "execute_result"
    }
   ],
   "source": [
    "t.inorder()"
   ]
  },
  {
   "cell_type": "code",
   "execution_count": 9,
   "id": "61c3067f",
   "metadata": {},
   "outputs": [
    {
     "data": {
      "text/plain": [
       "[10, 5, 1, 7, 15, 12, 17]"
      ]
     },
     "execution_count": 9,
     "metadata": {},
     "output_type": "execute_result"
    }
   ],
   "source": [
    "t.preorder()"
   ]
  },
  {
   "cell_type": "code",
   "execution_count": 10,
   "id": "10f9ce73",
   "metadata": {},
   "outputs": [
    {
     "data": {
      "text/plain": [
       "[1, 7, 5, 12, 17, 15, 10]"
      ]
     },
     "execution_count": 10,
     "metadata": {},
     "output_type": "execute_result"
    }
   ],
   "source": [
    "t.postorder()"
   ]
  },
  {
   "cell_type": "code",
   "execution_count": 11,
   "id": "cb3de8c6",
   "metadata": {},
   "outputs": [
    {
     "data": {
      "text/plain": [
       "[10, 5, 15, 1, 7, 12, 17]"
      ]
     },
     "execution_count": 11,
     "metadata": {},
     "output_type": "execute_result"
    }
   ],
   "source": [
    "t.level_order()"
   ]
  },
  {
   "cell_type": "code",
   "execution_count": 12,
   "id": "93ac4a09",
   "metadata": {},
   "outputs": [],
   "source": [
    "t2 = BST(Node (10, None, Node(15)))"
   ]
  },
  {
   "cell_type": "code",
   "execution_count": 13,
   "id": "bf1df2d9",
   "metadata": {},
   "outputs": [
    {
     "data": {
      "text/plain": [
       "<__main__.Node at 0x1da0fb1a0a0>"
      ]
     },
     "execution_count": 13,
     "metadata": {},
     "output_type": "execute_result"
    }
   ],
   "source": [
    "t2.insert(12)"
   ]
  },
  {
   "cell_type": "code",
   "execution_count": 14,
   "id": "59f85b75",
   "metadata": {},
   "outputs": [
    {
     "data": {
      "text/plain": [
       "<__main__.Node at 0x1da0fb1a0a0>"
      ]
     },
     "execution_count": 14,
     "metadata": {},
     "output_type": "execute_result"
    }
   ],
   "source": [
    "t2.insert(16)"
   ]
  },
  {
   "cell_type": "code",
   "execution_count": 15,
   "id": "9dd03ea3",
   "metadata": {},
   "outputs": [
    {
     "data": {
      "text/plain": [
       "<__main__.Node at 0x1da0fb1a0a0>"
      ]
     },
     "execution_count": 15,
     "metadata": {},
     "output_type": "execute_result"
    }
   ],
   "source": [
    "t2.insert(9)"
   ]
  },
  {
   "cell_type": "code",
   "execution_count": 16,
   "id": "d4a546c8",
   "metadata": {},
   "outputs": [
    {
     "data": {
      "text/plain": [
       "<__main__.Node at 0x1da0fb1a0a0>"
      ]
     },
     "execution_count": 16,
     "metadata": {},
     "output_type": "execute_result"
    }
   ],
   "source": [
    "t2.insert(11)"
   ]
  },
  {
   "cell_type": "code",
   "execution_count": 17,
   "id": "312df963",
   "metadata": {},
   "outputs": [
    {
     "data": {
      "text/plain": [
       "[10, 9, 15, 12, 16, 11]"
      ]
     },
     "execution_count": 17,
     "metadata": {},
     "output_type": "execute_result"
    }
   ],
   "source": [
    "t2.level_order()"
   ]
  },
  {
   "cell_type": "code",
   "execution_count": 18,
   "id": "d2015ad6",
   "metadata": {},
   "outputs": [
    {
     "data": {
      "text/plain": [
       "[9, 10, 11, 12, 15, 16]"
      ]
     },
     "execution_count": 18,
     "metadata": {},
     "output_type": "execute_result"
    }
   ],
   "source": [
    "t2.inorder()"
   ]
  },
  {
   "cell_type": "code",
   "execution_count": 19,
   "id": "43b6f576",
   "metadata": {},
   "outputs": [
    {
     "data": {
      "text/plain": [
       "[10, 9, 15, 12, 11, 16]"
      ]
     },
     "execution_count": 19,
     "metadata": {},
     "output_type": "execute_result"
    }
   ],
   "source": [
    "t2.preorder()"
   ]
  },
  {
   "cell_type": "code",
   "execution_count": 20,
   "id": "284917aa",
   "metadata": {},
   "outputs": [
    {
     "data": {
      "text/plain": [
       "[9, 11, 12, 16, 15, 10]"
      ]
     },
     "execution_count": 20,
     "metadata": {},
     "output_type": "execute_result"
    }
   ],
   "source": [
    "t2.postorder()"
   ]
  },
  {
   "cell_type": "code",
   "execution_count": 21,
   "id": "5497cb45",
   "metadata": {},
   "outputs": [
    {
     "data": {
      "text/plain": [
       "4"
      ]
     },
     "execution_count": 21,
     "metadata": {},
     "output_type": "execute_result"
    }
   ],
   "source": [
    "t2.diameter()"
   ]
  },
  {
   "cell_type": "code",
   "execution_count": 22,
   "id": "f3be0b19",
   "metadata": {},
   "outputs": [
    {
     "data": {
      "text/plain": [
       "3"
      ]
     },
     "execution_count": 22,
     "metadata": {},
     "output_type": "execute_result"
    }
   ],
   "source": [
    "t2.height()"
   ]
  },
  {
   "cell_type": "code",
   "execution_count": 23,
   "id": "5663a64d",
   "metadata": {},
   "outputs": [],
   "source": [
    "t2.delete(10)"
   ]
  },
  {
   "cell_type": "code",
   "execution_count": 24,
   "id": "67c4eca5",
   "metadata": {},
   "outputs": [
    {
     "data": {
      "text/plain": [
       "[11, 9, 15, 12, 16]"
      ]
     },
     "execution_count": 24,
     "metadata": {},
     "output_type": "execute_result"
    }
   ],
   "source": [
    "t2.preorder()"
   ]
  },
  {
   "cell_type": "code",
   "execution_count": null,
   "id": "4d85a0a0",
   "metadata": {},
   "outputs": [],
   "source": []
  },
  {
   "cell_type": "code",
   "execution_count": null,
   "id": "f6ee1350",
   "metadata": {},
   "outputs": [],
   "source": []
  }
 ],
 "metadata": {
  "kernelspec": {
   "display_name": "Python 3 (ipykernel)",
   "language": "python",
   "name": "python3"
  },
  "language_info": {
   "codemirror_mode": {
    "name": "ipython",
    "version": 3
   },
   "file_extension": ".py",
   "mimetype": "text/x-python",
   "name": "python",
   "nbconvert_exporter": "python",
   "pygments_lexer": "ipython3",
   "version": "3.9.12"
  }
 },
 "nbformat": 4,
 "nbformat_minor": 5
}
