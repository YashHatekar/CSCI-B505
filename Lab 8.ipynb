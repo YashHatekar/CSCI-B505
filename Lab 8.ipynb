{
 "cells": [
  {
   "cell_type": "code",
   "execution_count": 24,
   "id": "0ddf9770",
   "metadata": {},
   "outputs": [
    {
     "name": "stdout",
     "output_type": "stream",
     "text": [
      "Data Mining\n",
      "Applied Algorithms\n"
     ]
    }
   ],
   "source": [
    "class PQueue:\n",
    "    def __init__(self,pq):\n",
    "        l1 = []\n",
    "        for i in pq:\n",
    "            l1.append(i)\n",
    "        l1.sort(reverse=True)\n",
    "        self.l1 = l1\n",
    "        #pass\n",
    "    def insert(self,element):\n",
    "        l2=[]\n",
    "        l2 = self.l1\n",
    "        l2.append(element)\n",
    "        l2.sort(reverse=True)\n",
    "        return l2\n",
    "        #pass\n",
    "    def get_max(self):\n",
    "        max_ele = self.l1.pop(0)\n",
    "        self.l1.sort(reverse=True)\n",
    "        return max_ele\n",
    "        #pass\n",
    "pq = PQueue([(5,'Data Mining'),(3,'NLP'),(0,'NLP2')])\n",
    "pq.insert ((4, \"Applied Algorithms\"))\n",
    "pq.insert ((1, \"Database Design\"))\n",
    "pq.insert ((2, \"Data Science\"))\n",
    "\n",
    "k,v = pq.get_max()\n",
    "print(v)\n",
    "k,v = pq.get_max()\n",
    "print(v)"
   ]
  },
  {
   "cell_type": "code",
   "execution_count": 54,
   "id": "7433340e",
   "metadata": {},
   "outputs": [
    {
     "name": "stdout",
     "output_type": "stream",
     "text": [
      "NLP2\n",
      "Database Design\n"
     ]
    }
   ],
   "source": [
    "import heapq as hq\n",
    "\n",
    "class PrQueue:\n",
    "    def __init__(self,pq):\n",
    "        hq.heapify(pq)\n",
    "        self.pq = pq\n",
    "    def insert(self,element):\n",
    "        hq.heappush(self.pq,element)\n",
    "    def get_max(self):\n",
    "        maxele = hq.heappop(self.pq)\n",
    "        hq.heapify(self.pq)\n",
    "        return maxele\n",
    "pq = PrQueue([(5,'Data Mining'),(3,'NLP'),(0,'NLP2')])\n",
    "pq.insert ((4, \"Applied Algorithms\"))\n",
    "pq.insert ((1, \"Database Design\"))\n",
    "pq.insert ((2, \"Data Science\"))\n",
    "k,v = pq.get_max()\n",
    "print(v)\n",
    "k,v = pq.get_max()\n",
    "print(v)"
   ]
  },
  {
   "cell_type": "code",
   "execution_count": null,
   "id": "4f2ebc89",
   "metadata": {},
   "outputs": [],
   "source": []
  }
 ],
 "metadata": {
  "kernelspec": {
   "display_name": "Python 3 (ipykernel)",
   "language": "python",
   "name": "python3"
  },
  "language_info": {
   "codemirror_mode": {
    "name": "ipython",
    "version": 3
   },
   "file_extension": ".py",
   "mimetype": "text/x-python",
   "name": "python",
   "nbconvert_exporter": "python",
   "pygments_lexer": "ipython3",
   "version": "3.9.12"
  }
 },
 "nbformat": 4,
 "nbformat_minor": 5
}
