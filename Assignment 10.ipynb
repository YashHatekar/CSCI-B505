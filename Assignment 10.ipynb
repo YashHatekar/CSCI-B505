{
 "cells": [
  {
   "cell_type": "markdown",
   "id": "ea8cce24",
   "metadata": {},
   "source": [
    "## Problem 1"
   ]
  },
  {
   "cell_type": "code",
   "execution_count": 162,
   "id": "3fcb5252",
   "metadata": {},
   "outputs": [],
   "source": [
    "import collections\n",
    "def get_combined_list(syn_list):\n",
    "    graph = collections.defaultdict(set)\n",
    "    res = []\n",
    "    visited = set()\n",
    "    for i in syn_list:\n",
    "        for j in i:\n",
    "            for k in i:\n",
    "                if j != k:\n",
    "                    graph[j].add(k)\n",
    "#     print(graph)\n",
    "    for word in graph:\n",
    "        if word not in visited:\n",
    "            synonyms = []\n",
    "            tmp = [word]\n",
    "            while tmp:\n",
    "                curr = tmp.pop()\n",
    "#                 print(curr)\n",
    "                if curr not in visited:\n",
    "                    synonyms.append(curr)\n",
    "                    visited.add(curr)\n",
    "                    tmp.extend(graph[curr])\n",
    "#                 print(tmp,visited)\n",
    "            res.append(synonyms)\n",
    "    return res"
   ]
  },
  {
   "cell_type": "code",
   "execution_count": 163,
   "id": "bebb20c5",
   "metadata": {},
   "outputs": [
    {
     "name": "stdout",
     "output_type": "stream",
     "text": [
      "[['oranges', 'apples', 'dogs', 'cats'], ['peach', 'mango']]\n"
     ]
    }
   ],
   "source": [
    "syn_list = [['oranges','dogs','apples'],['peach', 'mango'],['dogs', 'cats']]\n",
    "print(get_combined_list(syn_list))"
   ]
  },
  {
   "cell_type": "markdown",
   "id": "43cbe310",
   "metadata": {},
   "source": [
    "## Problem 2"
   ]
  },
  {
   "cell_type": "code",
   "execution_count": 164,
   "id": "6709abc0",
   "metadata": {},
   "outputs": [],
   "source": [
    "def SymmetricPairs ( Array_Pairs : list [ list ]) :\n",
    "    s = set()\n",
    "    res = []\n",
    "    for i in Array_Pairs:\n",
    "#         print(i[0],i[1])\n",
    "        if((i[1] , i[0]) in s):\n",
    "            res.append([i[0],i[1]])\n",
    "        else:\n",
    "            s.add((i[0],i[1]))\n",
    "#             print(s,res)\n",
    "    return res"
   ]
  },
  {
   "cell_type": "code",
   "execution_count": 165,
   "id": "265805b8",
   "metadata": {},
   "outputs": [
    {
     "name": "stdout",
     "output_type": "stream",
     "text": [
      "[[40, 30], [10, 5]]\n",
      "[]\n"
     ]
    }
   ],
   "source": [
    "Array_pairs = [[11, 20], [30, 40], [5, 10], [40, 30], [10, 5]]\n",
    "print(SymmetricPairs(Array_pairs))\n",
    "Array_pairs2 = [[11, 20], [40, 30], [10, 5]]\n",
    "print(SymmetricPairs(Array_pairs2))"
   ]
  },
  {
   "cell_type": "code",
   "execution_count": 166,
   "id": "61234ab2",
   "metadata": {},
   "outputs": [
    {
     "name": "stdout",
     "output_type": "stream",
     "text": [
      "[[40, 30], [10, 5]]\n"
     ]
    }
   ],
   "source": [
    "Array_pairs3 = [[11, 20], [30, 40], [5, 10], [40, 30], [10, 5]]\n",
    "print(SymmetricPairs(Array_pairs3))"
   ]
  },
  {
   "cell_type": "markdown",
   "id": "6570ab62",
   "metadata": {},
   "source": [
    "## Problem 3"
   ]
  },
  {
   "cell_type": "code",
   "execution_count": 167,
   "id": "71bccc7b",
   "metadata": {},
   "outputs": [],
   "source": [
    "def custom_dict ( queries , values ) :\n",
    "    ht = {}\n",
    "    res = []\n",
    "    key,val_v = 0,0\n",
    "    for q,val in zip(queries,values):\n",
    "#         print(val[0],val[1])\n",
    "        if q == 'Add':\n",
    "#             print(ht[val[0]-key])\n",
    "            ht[val[0]-key] = val[1]-val_v    \n",
    "        elif q == 'Add_to_vals':\n",
    "            val_v +=val[0]\n",
    "        elif q == 'Add_to_keys':\n",
    "            key+=val[0]\n",
    "        elif q == 'Return':\n",
    "            res.append(ht[val[0]-key]+val_v)\n",
    "    return res"
   ]
  },
  {
   "cell_type": "code",
   "execution_count": 168,
   "id": "e40f9fb2",
   "metadata": {},
   "outputs": [
    {
     "name": "stdout",
     "output_type": "stream",
     "text": [
      "[4, 2]\n"
     ]
    }
   ],
   "source": [
    "queries= ['Add','Add_to_vals','Return','Add','Add_to_keys','Add_to_vals','Return']\n",
    "values= [ [1,2],[2],[1],[2,3],[1],[-1],[3] ]\n",
    "print(custom_dict(queries,values))"
   ]
  },
  {
   "cell_type": "markdown",
   "id": "d2128b26",
   "metadata": {},
   "source": [
    "## Problem 4"
   ]
  },
  {
   "cell_type": "code",
   "execution_count": 169,
   "id": "dfbc62a0",
   "metadata": {},
   "outputs": [],
   "source": [
    "def get_travel_plan ( cities , priorities ) :\n",
    "    trip = []\n",
    "    pri_c=[]\n",
    "    pri = {}\n",
    "    for i in priorities:\n",
    "        for j in i:\n",
    "            pri_c.append(j)\n",
    "    for i in range(0,len(pri_c)-1,2):\n",
    "        pri[pri_c[i]]=pri_c[i+1]\n",
    "#     for i in cities:\n",
    "#         if i not in pri:\n",
    "#             pri[i]=''\n",
    "#     print(pri)\n",
    "    for i in pri:\n",
    "        if i not in trip :\n",
    "            trip.append(i)\n",
    "        if pri[i] not in trip:\n",
    "            trip.append(pri[i])\n",
    "        else:\n",
    "            return []\n",
    "    for i in cities:\n",
    "        if i not in trip:\n",
    "            trip.append(i)\n",
    "    return trip"
   ]
  },
  {
   "cell_type": "code",
   "execution_count": 170,
   "id": "5c7633b4",
   "metadata": {},
   "outputs": [
    {
     "name": "stdout",
     "output_type": "stream",
     "text": [
      "['London', 'Medellín', 'São Paulo', 'Prague', 'Berlin', 'Ladakh', 'Nice']\n",
      "[]\n"
     ]
    }
   ],
   "source": [
    "print(get_travel_plan( ['London', 'Berlin', 'Medellín', 'São Paulo', 'Prague', 'Ladakh', 'Nice'],[('London', 'Medellín'), ('Medellín', 'São Paulo'), ('Prague', 'Berlin')]))\n",
    "print(get_travel_plan( ['New York', 'Honolulu'], [('New York', 'Honolulu'), ('Honolulu', 'New York')]))"
   ]
  },
  {
   "cell_type": "code",
   "execution_count": 158,
   "id": "82967e98",
   "metadata": {},
   "outputs": [
    {
     "name": "stdout",
     "output_type": "stream",
     "text": [
      "[]\n"
     ]
    }
   ],
   "source": [
    "print(get_travel_plan(['London', 'Berlin','Medellin', 'Sao Paulo', 'Ladakh', 'Nice'],[('London', 'Medellin'), ('Medellin', 'Sao Paulo'), ('Berlin', 'Ladakh'), ('Sao Paulo', 'London') ]))"
   ]
  }
 ],
 "metadata": {
  "kernelspec": {
   "display_name": "Python 3 (ipykernel)",
   "language": "python",
   "name": "python3"
  },
  "language_info": {
   "codemirror_mode": {
    "name": "ipython",
    "version": 3
   },
   "file_extension": ".py",
   "mimetype": "text/x-python",
   "name": "python",
   "nbconvert_exporter": "python",
   "pygments_lexer": "ipython3",
   "version": "3.9.12"
  }
 },
 "nbformat": 4,
 "nbformat_minor": 5
}
