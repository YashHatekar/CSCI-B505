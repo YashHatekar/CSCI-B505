{
 "cells": [
  {
   "cell_type": "markdown",
   "id": "4894c034",
   "metadata": {},
   "source": [
    "## Problem 1"
   ]
  },
  {
   "cell_type": "code",
   "execution_count": 216,
   "id": "a39f3fdd",
   "metadata": {},
   "outputs": [],
   "source": [
    "def function1(a,b):\n",
    "    return a+b\n",
    "def function2(a,b):\n",
    "    return a*b\n",
    "def function3(a,b):\n",
    "    return int(str(a)+str(b))\n",
    "def calc_1s(n):\n",
    "    mini = [n] * (n+1) \n",
    "    mini[1] = 1\n",
    "    for i in range(2,n+1): \n",
    "        mini[i] = i\n",
    "        for m in range(1, (i//2)):\n",
    "            mini[i] = min(mini[i], function1 (m,i-m)) \n",
    "            if(function2(i//m,m)) == i:\n",
    "                mini[i] = min(mini[i], mini[m] + mini[i//m])\n",
    "    cnt = 0\n",
    "    n_new = n\n",
    "    while(n >= 1):\n",
    "        t = n % 10\n",
    "        n = n//10\n",
    "        for i in range(1, n_new+1):\n",
    "            if t == mini[i]:\n",
    "                cnt+=mini[i]\n",
    "                break\n",
    "    if cnt < mini[n] and n_new % 10 != 0 and cnt !=0:\n",
    "        return cnt\n",
    "    else:\n",
    "        return mini[n_new]"
   ]
  },
  {
   "cell_type": "code",
   "execution_count": 217,
   "id": "f2030a75",
   "metadata": {},
   "outputs": [
    {
     "name": "stdout",
     "output_type": "stream",
     "text": [
      "4\n",
      "28\n",
      "1\n"
     ]
    }
   ],
   "source": [
    "print(calc_1s(22))\n",
    "print(calc_1s(10000))\n",
    "print(calc_1s(1))"
   ]
  },
  {
   "cell_type": "markdown",
   "id": "f89826e5",
   "metadata": {},
   "source": [
    "## Problem 2"
   ]
  },
  {
   "cell_type": "code",
   "execution_count": 218,
   "id": "5156c0c8",
   "metadata": {},
   "outputs": [],
   "source": [
    "def move(grid, i, j):\n",
    "    if i < 0 or i >= len(grid) or j < 0 or j >= len(grid[0]):\n",
    "        return 0\n",
    "    steps = 0\n",
    "    dirctn = [[0, 1], [0, -1], [1, 0], [-1, 0]]\n",
    "    for dirctn in dirctn:\n",
    "        newi = i + dirctn[0]\n",
    "        newj = j + dirctn[1]\n",
    "        if newi >= 0 and newi < len(grid) and newj >= 0 and newj < len(grid[0]) and grid[newi][newj] > grid[i][j]:\n",
    "            steps = max(steps, 1 + move(grid, newi, newj))\n",
    "    return steps"
   ]
  },
  {
   "cell_type": "code",
   "execution_count": 219,
   "id": "4b81a337",
   "metadata": {},
   "outputs": [],
   "source": [
    "def max_steps(grid):\n",
    "    steps = 0\n",
    "    for i in range(len(grid)):\n",
    "        for j in range(len(grid[0])):\n",
    "                steps = max(steps, move(grid, i, j))\n",
    "    return steps"
   ]
  },
  {
   "cell_type": "code",
   "execution_count": 220,
   "id": "33d4e1c5",
   "metadata": {},
   "outputs": [
    {
     "name": "stdout",
     "output_type": "stream",
     "text": [
      "2\n",
      "4\n"
     ]
    }
   ],
   "source": [
    "print(max_steps([['d','b'],['c','a']]))\n",
    "print(max_steps([['t','o','y'],['c','a','t'],['t','o','p']]))"
   ]
  },
  {
   "cell_type": "markdown",
   "id": "de992842",
   "metadata": {},
   "source": [
    "## Problem 3"
   ]
  },
  {
   "cell_type": "code",
   "execution_count": 221,
   "id": "722ef931",
   "metadata": {},
   "outputs": [],
   "source": [
    "def get_max_coconuts(nums):\n",
    "    sub_list=[]\n",
    "    tmp_tree=[]\n",
    "    for i in range(len(nums)):\n",
    "        for j in range(len(sub_list[:])):\n",
    "            if -1!=tmp_tree[j]-i !=1:\n",
    "                sub_list.append(sub_list[j]+[nums[i]])\n",
    "                tmp_tree.append(i)\n",
    "        sub_list.append([nums[i]])\n",
    "        tmp_tree.append(i)\n",
    "    max_c=0\n",
    "    for i in sub_list:\n",
    "        if sum(i)> max_c:\n",
    "            max_c=sum(i)\n",
    "    return max_c"
   ]
  },
  {
   "cell_type": "code",
   "execution_count": 222,
   "id": "3576cde6",
   "metadata": {},
   "outputs": [
    {
     "name": "stdout",
     "output_type": "stream",
     "text": [
      "12\n"
     ]
    }
   ],
   "source": [
    "print(get_max_coconuts([2,7,9,3,1]))"
   ]
  },
  {
   "cell_type": "markdown",
   "id": "d2284d1a",
   "metadata": {},
   "source": [
    "## Problem 4"
   ]
  },
  {
   "cell_type": "code",
   "execution_count": 223,
   "id": "0c59570a",
   "metadata": {},
   "outputs": [],
   "source": [
    "def subset_divisible(A,target):\n",
    "    sub_list=[]\n",
    "    for i in A:\n",
    "        sub_list.extend([j+[i] for j in sub_list[:]]+[[i]])\n",
    "    tmp=[s_l for s_l in sub_list if sum(s_l)%target==0]\n",
    "    return tmp"
   ]
  },
  {
   "cell_type": "code",
   "execution_count": 224,
   "id": "1359a246",
   "metadata": {},
   "outputs": [
    {
     "name": "stdout",
     "output_type": "stream",
     "text": [
      "[[1, 5], [1, 3, 2], [5, 7], [3, 2, 7], [1, 3, 5, 2, 7]]\n",
      "[]\n",
      "[[1, 5], [7, 5]]\n"
     ]
    }
   ],
   "source": [
    "print(subset_divisible([1,3,5,2,7],6))\n",
    "print(subset_divisible([1,6],5))\n",
    "print(subset_divisible([3,1,7,5],6))"
   ]
  },
  {
   "cell_type": "markdown",
   "id": "01e7680e",
   "metadata": {},
   "source": [
    "## Problem 5"
   ]
  },
  {
   "cell_type": "code",
   "execution_count": 225,
   "id": "9c51683a",
   "metadata": {},
   "outputs": [],
   "source": [
    "def sub_match(s,sub):\n",
    "    matrix = [[0] * (len(sub) + 1) for i in range(len(s) + 1)]\n",
    "    for i in range(len(sub)+1):\n",
    "        matrix[0][i]=0\n",
    "    for i in range(len(s)+1):\n",
    "        matrix[i][0]=1\n",
    "    for i in range(1, len(s) + 1):\n",
    "        for j in range(1, len(sub) + 1):\n",
    "            if s[i - 1] == sub[j - 1]:\n",
    "                matrix[i][j] = matrix[i - 1][j - 1] + matrix[i - 1][j]\n",
    "            else:\n",
    "                matrix[i][j] = matrix[i - 1][j]\n",
    "    return matrix[len(s)][len(sub)]"
   ]
  },
  {
   "cell_type": "code",
   "execution_count": 226,
   "id": "56ec949c",
   "metadata": {},
   "outputs": [],
   "source": [
    "import random\n",
    "def get_max_sbstr(s,c1 ,c2):\n",
    "    choice = random.choice([c1,c2])\n",
    "    index = random.randint(0,len(s))\n",
    "    up_s = s[:index]+choice+s[index:]\n",
    "    print(up_s,choice,c1+c2)\n",
    "    count = sub_match(up_s,c1+c2)\n",
    "    return count"
   ]
  },
  {
   "cell_type": "code",
   "execution_count": 227,
   "id": "a9f7bacf",
   "metadata": {},
   "outputs": [
    {
     "name": "stdout",
     "output_type": "stream",
     "text": [
      "abcdefb b ab\n",
      "2\n",
      "bcebdecd b bd\n",
      "4\n"
     ]
    }
   ],
   "source": [
    "print(get_max_sbstr('abcdef','a','b'))\n",
    "print(get_max_sbstr('bcedecd','b','d'))"
   ]
  },
  {
   "cell_type": "markdown",
   "id": "f69b9d8c",
   "metadata": {},
   "source": [
    "## Problem 6"
   ]
  },
  {
   "cell_type": "code",
   "execution_count": 228,
   "id": "4e63b224",
   "metadata": {},
   "outputs": [],
   "source": [
    "def num_passwords(digit_list):\n",
    "    pass_list=[]\n",
    "    for i in digit_list:\n",
    "        pass_list.extend([j+str(i) for j in pass_list[:]]+[str(i)])\n",
    "    return len(set(pass_list))"
   ]
  },
  {
   "cell_type": "code",
   "execution_count": 229,
   "id": "6432495e",
   "metadata": {},
   "outputs": [
    {
     "name": "stdout",
     "output_type": "stream",
     "text": [
      "399\n",
      "13\n",
      "4\n"
     ]
    }
   ],
   "source": [
    "print(num_passwords([1,2,3,4,3,2,5,3,8]))\n",
    "print(num_passwords([1, 2, 1, 3]))\n",
    "print(num_passwords([9, 9, 9, 9]))"
   ]
  },
  {
   "cell_type": "code",
   "execution_count": null,
   "id": "6ac725ea",
   "metadata": {},
   "outputs": [],
   "source": []
  }
 ],
 "metadata": {
  "kernelspec": {
   "display_name": "Python 3 (ipykernel)",
   "language": "python",
   "name": "python3"
  },
  "language_info": {
   "codemirror_mode": {
    "name": "ipython",
    "version": 3
   },
   "file_extension": ".py",
   "mimetype": "text/x-python",
   "name": "python",
   "nbconvert_exporter": "python",
   "pygments_lexer": "ipython3",
   "version": "3.9.12"
  }
 },
 "nbformat": 4,
 "nbformat_minor": 5
}
