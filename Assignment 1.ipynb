{
 "cells": [
  {
   "cell_type": "markdown",
   "id": "08d0abeb",
   "metadata": {},
   "source": [
    "# Problem 1\n",
    "Olivia is always fascinated by prime numbers. She wanted to know the number of English letters\n",
    "that are required for writing them.\n",
    "Write a program which takes the natural number N and gives the number of english letters\n",
    "required to write the prime numbers below N.\n",
    "Constraint: N < 100"
   ]
  },
  {
   "cell_type": "code",
   "execution_count": 1,
   "id": "e5fe4fa8",
   "metadata": {},
   "outputs": [],
   "source": [
    "def num2let(num):\n",
    "    num2letr = { 0 : 'zero', 1 : 'one', 2 : 'two', 3 : 'three', 4 : 'four', 5 : 'five', 6 : 'six', 7 : 'seven', 8 : 'eight', 9 : 'nine', 10 : 'ten', 11 : 'eleven', 12 : 'twelve', 13 : 'thirteen', 14 : 'fourteen', 15 : 'fifteen', 16 : 'sixteen', 17 : 'seventeen', 18 : 'eighteen', 19 : 'nineteen', 20 : 'twenty', 30 : 'thirty', 40 : 'forty', 50 : 'fifty', 60 : 'sixty', 70 : 'seventy', 80 : 'eighty', 90 : 'ninety' }\n",
    "    if (num < 20):\n",
    "        return num2letr[num]\n",
    "    if (num < 100):\n",
    "        if num % 10 == 0: \n",
    "            return num2letr[num]\n",
    "        else: \n",
    "            return num2letr[int(num / 10) * 10] + num2letr[num % 10]"
   ]
  },
  {
   "cell_type": "code",
   "execution_count": 2,
   "id": "e6d2ba21",
   "metadata": {},
   "outputs": [],
   "source": [
    "def count_prime_letters(n):\n",
    "    sum_of_letrs = 0\n",
    "    for i in range(n):\n",
    "        if i <=1 :\n",
    "            continue\n",
    "        for num in range(2,i):\n",
    "            if i % num == 0:\n",
    "                break\n",
    "        else:\n",
    "            sum_of_letrs += len(num2let(i))\n",
    "    return sum_of_letrs"
   ]
  },
  {
   "cell_type": "code",
   "execution_count": 3,
   "id": "96da4748",
   "metadata": {},
   "outputs": [
    {
     "name": "stdout",
     "output_type": "stream",
     "text": [
      "Enter a natural number < 100 : 99\n",
      "219\n"
     ]
    }
   ],
   "source": [
    "N = int(input(\"Enter a natural number < 100 : \"))\n",
    "if N > 100:\n",
    "    print(\"Invalid number\")\n",
    "else :\n",
    "    print(count_prime_letters(N))"
   ]
  },
  {
   "cell_type": "markdown",
   "id": "ad1aa03b",
   "metadata": {},
   "source": [
    "# Problem 2\n",
    "A perfect square is a number that can be expressed as a product of an integer with itself.\n",
    "(For example, 49 is the product of 7 with itself).A function F (N ) is defined such that it returns the\n",
    "sum of all perfect squares less than or equal to N, where N is a positive integer. An advanced\n",
    "version of F (N ), function get_square_sum(M, N ) , is defined such that it applies operation\n",
    "F (N ) ’M’ times to the result of the previous operation, starting from N.\n",
    "Write the function get_square_sum(M, N ).You may assume M >= 1, N >= 1."
   ]
  },
  {
   "cell_type": "code",
   "execution_count": 4,
   "id": "4df938af",
   "metadata": {},
   "outputs": [
    {
     "name": "stdout",
     "output_type": "stream",
     "text": [
      "55\n"
     ]
    }
   ],
   "source": [
    "def f(N):\n",
    "    sum_sqrs = 0\n",
    "    if N > 0:\n",
    "        for i in range(N):\n",
    "            sqroot = int(i**0.5)\n",
    "            if sqroot*sqroot == i:\n",
    "                sum_sqrs+=i\n",
    "        return sum_sqrs\n",
    "    else:\n",
    "        print(\"Invalid\")\n",
    "        \n",
    "#print(f(20))\n",
    "\n",
    "def get_square_sum(M,N):\n",
    "    temp_N = N\n",
    "    temp_sum = 0\n",
    "    while M>0:\n",
    "        temp_sum = f(temp_N)\n",
    "        temp_N = temp_sum\n",
    "        M-=1\n",
    "    return temp_N\n",
    "\n",
    "print(get_square_sum(2,20))"
   ]
  },
  {
   "cell_type": "markdown",
   "id": "5aa6905a",
   "metadata": {},
   "source": [
    "# Problem 3\n",
    "Every integer can be represented in binary notation, which is a string of 1s and 0s.\n",
    "For example,\n",
    "2 = 10\n",
    "7 = 111\n",
    "8 = 1000\n",
    "You can explore this in python by using the python function ‘bin‘.\n",
    "Given an Integer N. The task is to find the second set bit position and return the position. If\n",
    "an Integer is not having the second bit set, return -1. The second set bit position is the index of\n",
    "the second 1 in the binary representation of a number when viewed from right to left.\n",
    "Note: Position count starts from 1."
   ]
  },
  {
   "cell_type": "code",
   "execution_count": 5,
   "id": "5049f5db",
   "metadata": {},
   "outputs": [
    {
     "name": "stdout",
     "output_type": "stream",
     "text": [
      "Enter a number : 101\n",
      "2\n"
     ]
    }
   ],
   "source": [
    "inpn = int(input(\"Enter a number : \"))\n",
    "def check_bit(N):\n",
    "    s = bin(inpn)\n",
    "    s = s[2:]\n",
    "    output = s[s.find('1')+1:].find('1')\n",
    "    if int(output) == -1:\n",
    "        return -1\n",
    "    else:\n",
    "        return (output+2)\n",
    "print(check_bit(inpn))\n"
   ]
  },
  {
   "cell_type": "markdown",
   "id": "fab99ab9",
   "metadata": {},
   "source": [
    "# Problem 4\n",
    "Given a 3 digit prime number n, print an integer that is perfectly divisible by 7, 11, 13 and n.\n",
    "Accomplish the above task without using arithmetic operator ’*’ or any kind of loop or recursion,\n",
    "and clearly explain your solution in the comments."
   ]
  },
  {
   "cell_type": "code",
   "execution_count": 6,
   "id": "537fc2d6",
   "metadata": {},
   "outputs": [
    {
     "name": "stdout",
     "output_type": "stream",
     "text": [
      "Enter a 3 digit prime number : 997\n",
      "Integer that is perfectly divisible by 7, 11, 13 and n is :  997997\n"
     ]
    }
   ],
   "source": [
    "def find_multiple(n):\n",
    "    return n+n\n",
    "prime = input(\"Enter a 3 digit prime number : \")\n",
    "print(\"Integer that is perfectly divisible by 7, 11, 13 and n is : \", find_multiple(prime))"
   ]
  },
  {
   "cell_type": "markdown",
   "id": "3a3229fc",
   "metadata": {},
   "source": [
    "7x11x13 = 1001\n",
    "any 3 digit number(xyz) multiplied with 1001 outputs xyz,xyz. For example - 1001*101 = 101,101"
   ]
  },
  {
   "cell_type": "markdown",
   "id": "31f9a5d2",
   "metadata": {},
   "source": [
    "# Problem 5\n",
    "There are ‘n’ number of teams participating in a football tournament. In every match the winning\n",
    "team is awarded 3 points while the losing team receives 0 points.\n",
    "In case of a tie, both the teams receive 1 point each. Given three arrays matches_won, matches_drawn\n",
    "and goals_scored each of length ‘n’ with value at matches_won[i] indicating number of matches\n",
    "the ith team won, matches_drawn[i] indicating the number of matches played by ith team that\n",
    "resulted in a tie and goals_scored[i] indicating the number of goals scored by the ith team in the\n",
    "entire tournament([0,n)).\n",
    "The team with the most number of points is declared the champions of the tournament. In case\n",
    "two or more teams score the same number of points the team with the highest number of goals\n",
    "scored in the tournament is declared the winner. Assuming there is always a unique winner,\n",
    "return the index of the winning team."
   ]
  },
  {
   "cell_type": "code",
   "execution_count": 7,
   "id": "2b219329",
   "metadata": {},
   "outputs": [],
   "source": [
    "def find_the_winner(matches_won, matches_drawn, goals_scored):\n",
    "    \n",
    "    scoresheet = []\n",
    "    max_count = 0\n",
    "    for i in range (0,len(matches_won)):\n",
    "        scoresheet.append(0)\n",
    "    print(\"Matches_won\", matches_won)\n",
    "    print(\"Matches drawn\", matches_drawn)\n",
    "    print(\"Goals scored\",goals_scored)\n",
    "    if len(matches_won)==len(matches_drawn) and len(matches_drawn)==len(goals_scored):\n",
    "        for i in range (len(matches_won)):\n",
    "            scoresheet[i]+=(matches_won[i]*3)\n",
    "            scoresheet[i]+=matches_drawn[i]\n",
    "        print(\"scoresheet\", scoresheet)\n",
    "        for i in scoresheet:\n",
    "            if i==max(scoresheet):\n",
    "                max_count+=1\n",
    "        if(max_count > 1):\n",
    "            return (goals_scored.index(max(goals_scored)))\n",
    "        else:\n",
    "            return (scoresheet.index(max(scoresheet)))\n",
    "    else:\n",
    "        print(\"Missing Values\")"
   ]
  },
  {
   "cell_type": "code",
   "execution_count": 8,
   "id": "522f926e",
   "metadata": {},
   "outputs": [
    {
     "name": "stdout",
     "output_type": "stream",
     "text": [
      "Enter number of teams4\n",
      "Enter the list of matches won : \n",
      "3\n",
      "2\n",
      "1\n",
      "0\n",
      "Enter the list of matches drawn : \n",
      "0\n",
      "1\n",
      "0\n",
      "1\n",
      "Enter the list of goals scored : \n",
      "6\n",
      "4\n",
      "5\n",
      "2\n",
      "Matches_won [3, 2, 1, 0]\n",
      "Matches drawn [0, 1, 0, 1]\n",
      "Goals scored [6, 4, 5, 2]\n",
      "scoresheet [9, 7, 3, 1]\n",
      "0\n"
     ]
    }
   ],
   "source": [
    "matches_won=[]\n",
    "matches_drawn=[]\n",
    "goals_scored=[]\n",
    "n = int(input(\"Enter number of teams\"))\n",
    "print(\"Enter the list of matches won : \")\n",
    "for i in range (0,n):\n",
    "    ele = int(input())\n",
    "    matches_won.append(ele)\n",
    "    \n",
    "print(\"Enter the list of matches drawn : \")\n",
    "for i in range (0,n):\n",
    "    ele = int(input())\n",
    "    matches_drawn.append(ele)\n",
    "    \n",
    "print(\"Enter the list of goals scored : \")\n",
    "for i in range (0,n):\n",
    "    ele = int(input())\n",
    "    goals_scored.append(ele)\n",
    "print(find_the_winner(matches_won, matches_drawn, goals_scored))"
   ]
  },
  {
   "cell_type": "markdown",
   "id": "3a32d63c",
   "metadata": {},
   "source": [
    "# Problem 6\n",
    "Mr.Jack spent his last weekend busy decoding the cipher to open the lock of a treasure.\n",
    "He was able to decode at the end but figured out from Mr. Smith later that the decoded string\n",
    "wouldn’t be valid as there are some extra characters added into the string.\n",
    "Mr.Smith knew that the characters which were added to the string are the 3rd occurrences of\n",
    "the character. Could you help Mr.Jack to figure out the cipher.\n",
    "\n",
    "Examples:\n",
    "S = “abzzbabz” (’z’ and ’b’ are repeated 3 times in the sequence\n",
    "so we need to remove the 3rd occurence of both the characters)\n",
    "O/p - “abzzba”\n",
    "S = “abzzbabzz” (’z’ is repeated 4 times and ’b’ is repeated 3 times\n",
    "so we need to remove only the 3rd occurence of both the characters)\n",
    "O/p - “abzzbaz”\n",
    "S = “aaaaaa” (’a’ is repeated 6 times\n",
    "so every 3rd occurence of ’a’ is removed from the given cipher)\n",
    "O/p - “aaaa”\n",
    "Constraints:\n",
    "0<= S <= 10^6"
   ]
  },
  {
   "cell_type": "code",
   "execution_count": 9,
   "id": "c18d135c",
   "metadata": {},
   "outputs": [
    {
     "name": "stdout",
     "output_type": "stream",
     "text": [
      "abzzbaz\n"
     ]
    }
   ],
   "source": [
    "def decoded_String(S):\n",
    "    s_uniq = {}\n",
    "    s_upd = S\n",
    "    decode_cnt = 0\n",
    "    for i in range (len(S)):\n",
    "        if not S[i] in s_uniq.keys():\n",
    "            s_uniq[S[i]]=0\n",
    "        s_uniq[S[i]]+=1\n",
    "        if s_uniq[S[i]]>0 and s_uniq[S[i]]%3==0:\n",
    "            j=i-decode_cnt\n",
    "            s_upd=s_upd[:j]+s_upd[j+1:]\n",
    "            decode_cnt+=1\n",
    "    return s_upd\n",
    "print(decoded_String(\"abzzbabzz\"))"
   ]
  }
 ],
 "metadata": {
  "kernelspec": {
   "display_name": "Python 3 (ipykernel)",
   "language": "python",
   "name": "python3"
  },
  "language_info": {
   "codemirror_mode": {
    "name": "ipython",
    "version": 3
   },
   "file_extension": ".py",
   "mimetype": "text/x-python",
   "name": "python",
   "nbconvert_exporter": "python",
   "pygments_lexer": "ipython3",
   "version": "3.9.12"
  }
 },
 "nbformat": 4,
 "nbformat_minor": 5
}
