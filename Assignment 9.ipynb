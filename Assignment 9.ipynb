{
 "cells": [
  {
   "cell_type": "markdown",
   "id": "a33c1391",
   "metadata": {},
   "source": [
    "## Problem 1"
   ]
  },
  {
   "cell_type": "code",
   "execution_count": 104,
   "id": "233154e2",
   "metadata": {},
   "outputs": [],
   "source": [
    "def can_color(adj_matrix):\n",
    "    visited = [0]*len(adj_matrix)\n",
    "    colour = [1]*len(adj_matrix)\n",
    "    coloursused = 1\n",
    "    for i in range(len(adj_matrix)):\n",
    "        if visited[i]:\n",
    "            continue\n",
    "        visited[i]=1\n",
    "        for j in range(len(adj_matrix[i])):\n",
    "#             print(i,j,adj_matrix[i],visited,colour)\n",
    "            if adj_matrix[i][j]==1:\n",
    "                if colour[i]==colour[j]:\n",
    "                    colour[j]+=1\n",
    "            coloursused = max(coloursused,colour[j])\n",
    "            if coloursused>2:\n",
    "#                 print(coloursused)\n",
    "                return False\n",
    "#             print(i,j,adj_matrix[i],visited,colour)\n",
    "    return True"
   ]
  },
  {
   "cell_type": "code",
   "execution_count": 105,
   "id": "285405b7",
   "metadata": {},
   "outputs": [
    {
     "name": "stdout",
     "output_type": "stream",
     "text": [
      "True\n",
      "False\n",
      "False\n"
     ]
    }
   ],
   "source": [
    "print(can_color([[0,1,1,0], [1,0,0,1], [1,0,0,1],[0, 1, 1, 0]]))\n",
    "print(can_color([[ 0, 1, 1, 0, 1, 0],\n",
    "     [ 1, 0, 1, 1, 0, 1],\n",
    "     [ 1, 1, 0, 1, 1, 0],\n",
    "     [ 0, 1, 1, 0, 0, 1],\n",
    "     [ 1, 0, 1, 0, 0, 1],\n",
    "     [ 0, 1, 0, 1, 1, 0]]))\n",
    "print(can_color([[0,1,1,0,0],[1,0,1,1,0],[1,1,0,1,0],[0,1,1,0,1],[0,0,0,1,0]]))"
   ]
  },
  {
   "cell_type": "markdown",
   "id": "f929f7e0",
   "metadata": {},
   "source": [
    "## Problem 2"
   ]
  },
  {
   "cell_type": "code",
   "execution_count": 106,
   "id": "e05c291c",
   "metadata": {},
   "outputs": [],
   "source": [
    "def all_routes_to_dest(n: int , connections: list[list[int]], begin: int , end: int) -> bool:\n",
    "    ans = False\n",
    "    conset = []\n",
    "    for i in connections:\n",
    "        for j in i:\n",
    "            conset.append(j)\n",
    "#     print(set(conset))\n",
    "    connectend = [0]*len(set(conset))\n",
    "    for i in set(conset):\n",
    "        if [i,end] in connections:\n",
    "            connectend[i]=1\n",
    "    for i in range(len(connectend)):\n",
    "        if connectend[i] == 0:\n",
    "            for j in range(len(set(conset))):\n",
    "                if connectend[j]==1:\n",
    "                    if [i,j] in connections:\n",
    "                        connectend[i]=1\n",
    "    if sum(connectend)==len(set(conset))-1:\n",
    "        return True\n",
    "    return False"
   ]
  },
  {
   "cell_type": "code",
   "execution_count": 107,
   "id": "c8f91f8e",
   "metadata": {},
   "outputs": [
    {
     "name": "stdout",
     "output_type": "stream",
     "text": [
      "False\n",
      "False\n",
      "True\n"
     ]
    }
   ],
   "source": [
    "print(all_routes_to_dest(3,[[0,1],[0,2]],0,2)) #f\n",
    "print(all_routes_to_dest(4,[[0,1],[0,3],[1,2],[2,1]],0,3)) #f\n",
    "print(all_routes_to_dest(4,[[0,1],[0,2],[1,3],[2,3]],0,3)) #t"
   ]
  },
  {
   "cell_type": "markdown",
   "id": "9b77dfe8",
   "metadata": {},
   "source": [
    "## Problem 3"
   ]
  },
  {
   "cell_type": "code",
   "execution_count": 108,
   "id": "a0f6c4f6",
   "metadata": {},
   "outputs": [],
   "source": [
    "def checkCycle(arr):\n",
    "    n = len(arr)\n",
    "    visited = set()\n",
    "    for i in range(n):\n",
    "        if i not in visited:\n",
    "            cycle = set()\n",
    "            while True:\n",
    "                if i in cycle:\n",
    "                    return True\n",
    "                if i in visited:\n",
    "                    break\n",
    "                visited.add(i)\n",
    "                cycle.add(i)\n",
    "#                 print(i,visited,cycle)\n",
    "                prev, i = i, (i+arr[i])%n\n",
    "#                 print(i,prev)\n",
    "                if prev == i:\n",
    "                    break\n",
    "    return False"
   ]
  },
  {
   "cell_type": "code",
   "execution_count": 109,
   "id": "f4c08b36",
   "metadata": {},
   "outputs": [
    {
     "name": "stdout",
     "output_type": "stream",
     "text": [
      "True [2, -1, 1, 2, 2]\n",
      "True [0,0,2,0,3,0,0,4,0]\n",
      "False [0,1,2,3]\n",
      "False [4,1,1,1]\n",
      "True [1,-1,2,-2]\n",
      "False [1]\n",
      "False [0, -2, 4, -3, 4, 1, 3, 6, -9]\n",
      "True [1, -4, 2, -1, -3]\n",
      "True [0,1, -4]\n"
     ]
    }
   ],
   "source": [
    "print(checkCycle([2, -1, 1, 2, 2]),'[2, -1, 1, 2, 2]')\n",
    "\n",
    "print(checkCycle([0,0,2,0,3,0,0,4,0]),'[0,0,2,0,3,0,0,4,0]')\n",
    "\n",
    "print(checkCycle([0,1,2,3]),'[0,1,2,3]')\n",
    "\n",
    "print(checkCycle([4,1,1,1]),'[4,1,1,1]')\n",
    "\n",
    "print(checkCycle([1,-1,2,-2]),'[1,-1,2,-2]')\n",
    "\n",
    "print(checkCycle([1] ),'[1]')\n",
    "\n",
    "print(checkCycle([0, -2, 4, -3, 4, 1, 3, 6, -9]),'[0, -2, 4, -3, 4, 1, 3, 6, -9]')\n",
    "\n",
    "print(checkCycle([1, -4, 2, -1, -3] ),'[1, -4, 2, -1, -3]')\n",
    "\n",
    "print(checkCycle( [0,1, -4]),'[0,1, -4]')"
   ]
  },
  {
   "cell_type": "markdown",
   "id": "46c2b03f",
   "metadata": {},
   "source": [
    "## Problem 4"
   ]
  },
  {
   "cell_type": "code",
   "execution_count": 110,
   "id": "75f6aafe",
   "metadata": {},
   "outputs": [],
   "source": [
    "import heapq\n",
    "def get_min_cost(n: int , costs: list[list[int ]]) -> int:\n",
    "    airports = [i+1 for i in range(n)]\n",
    "    min_cost=[]\n",
    "    min_cost.append([airports[0],0])\n",
    "    for i in range(1,n):\n",
    "        min_cost.append([airports[i],9999])\n",
    "    heapq.heapify(min_cost)\n",
    "#     print(min_cost)\n",
    "#     print(min_cost[1])\n",
    "    cost = min_cost.copy()\n",
    "    while cost:\n",
    "        curr = heapq.heappop(cost)\n",
    "        for i in costs:\n",
    "#             print(i)\n",
    "            if i[0]==curr[0]:\n",
    "#                 print(i[1],min_cost[i[1]-1])\n",
    "                if min_cost[i[1]-1][1] > i[2]:\n",
    "                    min_cost[i[1]-1]= [i[1],i[2]]\n",
    "#                     print(min_cost)\n",
    "    minC = 0\n",
    "    while min_cost:\n",
    "        currC=heapq.heappop(min_cost)[1]\n",
    "        if currC == 9999:\n",
    "            return -1\n",
    "        else:\n",
    "            minC+=currC\n",
    "    return minC"
   ]
  },
  {
   "cell_type": "code",
   "execution_count": 111,
   "id": "1754c41d",
   "metadata": {},
   "outputs": [
    {
     "name": "stdout",
     "output_type": "stream",
     "text": [
      "11\n"
     ]
    }
   ],
   "source": [
    "print(get_min_cost(3,[[1,2,4],[1,3,9],[2,3,7]]))"
   ]
  },
  {
   "cell_type": "code",
   "execution_count": 112,
   "id": "c97e586e",
   "metadata": {},
   "outputs": [
    {
     "name": "stdout",
     "output_type": "stream",
     "text": [
      "-1\n"
     ]
    }
   ],
   "source": [
    "print(get_min_cost(4,[[1,2,3],[3,4,4]]))"
   ]
  }
 ],
 "metadata": {
  "kernelspec": {
   "display_name": "Python 3 (ipykernel)",
   "language": "python",
   "name": "python3"
  },
  "language_info": {
   "codemirror_mode": {
    "name": "ipython",
    "version": 3
   },
   "file_extension": ".py",
   "mimetype": "text/x-python",
   "name": "python",
   "nbconvert_exporter": "python",
   "pygments_lexer": "ipython3",
   "version": "3.9.12"
  }
 },
 "nbformat": 4,
 "nbformat_minor": 5
}
